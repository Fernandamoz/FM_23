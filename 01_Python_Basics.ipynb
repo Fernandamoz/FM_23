{
  "nbformat": 4,
  "nbformat_minor": 0,
  "metadata": {
    "colab": {
      "provenance": [],
      "authorship_tag": "ABX9TyPT+hSBxFRqe21xAdrPQYw6",
      "include_colab_link": true
    },
    "kernelspec": {
      "name": "python3",
      "display_name": "Python 3"
    },
    "language_info": {
      "name": "python"
    }
  },
  "cells": [
    {
      "cell_type": "markdown",
      "metadata": {
        "id": "view-in-github",
        "colab_type": "text"
      },
      "source": [
        "<a href=\"https://colab.research.google.com/github/Fernandamoz/FM_23/blob/main/01_Python_Basics.ipynb\" target=\"_parent\"><img src=\"https://colab.research.google.com/assets/colab-badge.svg\" alt=\"Open In Colab\"/></a>"
      ]
    },
    {
      "cell_type": "code",
      "execution_count": null,
      "metadata": {
        "id": "P7xGZ7JOjvKI"
      },
      "outputs": [],
      "source": []
    },
    {
      "cell_type": "markdown",
      "source": [
        "# Introduction\n",
        "\n",
        "Here, in this file, we are going to *code*\n",
        "\n",
        "We are going to understand Python, how it works, and some tricks.\n"
      ],
      "metadata": {
        "id": "6LK310gokDDo"
      }
    },
    {
      "cell_type": "markdown",
      "source": [
        "# 1. What is Python?\n",
        "\n",
        "It was created in 1991 and it is a **general-purpouse programming language**\n",
        "\n",
        "This means that Python is used for:\n",
        "\n",
        "* Data analysis\n",
        "*Automatic task\n",
        "* Machine learning\n",
        "* Data visualization\n",
        "* Optimization\n",
        "* Web development \n",
        "* User interfaces creation\n",
        "* Create  another software\n",
        "* Create video games \n",
        "\n",
        "\n",
        "The world runs on Python, C++ ,  Java and HTLM / CSS an R?\n",
        "\n",
        "\n",
        "\n",
        "\n",
        "\n",
        "\n",
        "\n",
        "\n",
        "\n",
        "\n"
      ],
      "metadata": {
        "id": "JPdm6C0dkZ8E"
      }
    },
    {
      "cell_type": "markdown",
      "source": [
        "# 2. Why Python?\n",
        "\n",
        "The main reasons:\n",
        "\n",
        "* It is simple.\n",
        "* Focus.\n",
        "* Easy to learn.\n",
        "* Open-source: it is free\n",
        "* Cross-plataform\n",
        "* Extensive libraries\n"
      ],
      "metadata": {
        "id": "b62TAggGlrfO"
      }
    },
    {
      "cell_type": "markdown",
      "source": [
        "# 3. Getting Started \n"
      ],
      "metadata": {
        "id": "dvexx2CLmxdl"
      }
    },
    {
      "cell_type": "markdown",
      "source": [
        "## 3.1. Python as a Calculator"
      ],
      "metadata": {
        "id": "wQ2HlKJCm50F"
      }
    },
    {
      "cell_type": "markdown",
      "source": [],
      "metadata": {
        "id": "k5kOb7DAm-mW"
      }
    }
  ]
}