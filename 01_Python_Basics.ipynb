{
  "nbformat": 4,
  "nbformat_minor": 0,
  "metadata": {
    "colab": {
      "provenance": [],
      "authorship_tag": "ABX9TyOhvxdBCmdMdFsapH98BVX5",
      "include_colab_link": true
    },
    "kernelspec": {
      "name": "python3",
      "display_name": "Python 3"
    },
    "language_info": {
      "name": "python"
    }
  },
  "cells": [
    {
      "cell_type": "markdown",
      "metadata": {
        "id": "view-in-github",
        "colab_type": "text"
      },
      "source": [
        "<a href=\"https://colab.research.google.com/github/Fernandamoz/FM_23/blob/main/01_Python_Basics.ipynb\" target=\"_parent\"><img src=\"https://colab.research.google.com/assets/colab-badge.svg\" alt=\"Open In Colab\"/></a>"
      ]
    },
    {
      "cell_type": "code",
      "execution_count": null,
      "metadata": {
        "id": "P7xGZ7JOjvKI"
      },
      "outputs": [],
      "source": []
    },
    {
      "cell_type": "markdown",
      "source": [],
      "metadata": {
        "id": "DYUWxE95hlge"
      }
    },
    {
      "cell_type": "markdown",
      "source": [
        "# Introduction\n",
        "\n",
        "Here, in this file, we are going to *code*\n",
        "\n",
        "We are going to understand Python, how it works, and some tricks.\n"
      ],
      "metadata": {
        "id": "6LK310gokDDo"
      }
    },
    {
      "cell_type": "markdown",
      "source": [
        "# 1. What is Python?\n",
        "\n",
        "It was created in 1991 and it is a **general-purpouse programming language**\n",
        "\n",
        "This means that Python is used for:\n",
        "\n",
        "* Data analysis\n",
        "*Automatic task\n",
        "* Machine learning\n",
        "* Data visualization\n",
        "* Optimization\n",
        "* Web development \n",
        "* User interfaces creation\n",
        "* Create  another software\n",
        "* Create video games \n",
        "\n",
        "\n",
        "The world runs on Python, C++ ,  Java and HTLM / CSS an R?\n",
        "\n",
        "\n",
        "\n",
        "\n",
        "\n",
        "\n",
        "\n",
        "\n",
        "\n",
        "\n"
      ],
      "metadata": {
        "id": "JPdm6C0dkZ8E"
      }
    },
    {
      "cell_type": "markdown",
      "source": [
        "# 2. Why Python?\n",
        "\n",
        "The main reasons:\n",
        "\n",
        "* It is simple.\n",
        "* Focus.\n",
        "* Easy to learn.\n",
        "* Open-source: it is free\n",
        "* Cross-plataform\n",
        "* Extensive libraries\n"
      ],
      "metadata": {
        "id": "b62TAggGlrfO"
      }
    },
    {
      "cell_type": "markdown",
      "source": [
        "# 3. Getting Started \n"
      ],
      "metadata": {
        "id": "dvexx2CLmxdl"
      }
    },
    {
      "cell_type": "markdown",
      "source": [
        "\n",
        "\n",
        "```\n",
        "# Esto tiene formato de código\n",
        "```\n",
        "\n",
        "## 3.1. Python as a Calculator"
      ],
      "metadata": {
        "id": "wQ2HlKJCm50F"
      }
    },
    {
      "cell_type": "code",
      "source": [
        "# Addition\n",
        "2 + 2"
      ],
      "metadata": {
        "colab": {
          "base_uri": "https://localhost:8080/"
        },
        "id": "6CHEMjQlnHJG",
        "outputId": "0ff4837d-e1d8-48a6-e9c3-da66cce2627e"
      },
      "execution_count": null,
      "outputs": [
        {
          "output_type": "execute_result",
          "data": {
            "text/plain": [
              "4"
            ]
          },
          "metadata": {},
          "execution_count": 1
        }
      ]
    },
    {
      "cell_type": "code",
      "source": [
        "# Subtraction \n",
        "23 - 7"
      ],
      "metadata": {
        "colab": {
          "base_uri": "https://localhost:8080/"
        },
        "id": "8vqS79jioHJU",
        "outputId": "5a31c381-cf30-4121-e4f9-1a350d96a837"
      },
      "execution_count": null,
      "outputs": [
        {
          "output_type": "execute_result",
          "data": {
            "text/plain": [
              "16"
            ]
          },
          "metadata": {},
          "execution_count": 2
        }
      ]
    },
    {
      "cell_type": "code",
      "source": [
        "# Multiplication \n",
        "13 * 7"
      ],
      "metadata": {
        "colab": {
          "base_uri": "https://localhost:8080/"
        },
        "id": "HBhk6j_doSUE",
        "outputId": "ddf972c2-3787-4fc9-b17e-9c984d2ca7ed"
      },
      "execution_count": null,
      "outputs": [
        {
          "output_type": "execute_result",
          "data": {
            "text/plain": [
              "91"
            ]
          },
          "metadata": {},
          "execution_count": 3
        }
      ]
    },
    {
      "cell_type": "code",
      "source": [
        "# Division\n",
        "10 / 3"
      ],
      "metadata": {
        "colab": {
          "base_uri": "https://localhost:8080/"
        },
        "id": "mvlIgG59oZf2",
        "outputId": "8517c4e8-fab7-4352-b74c-1d0e92ef2939"
      },
      "execution_count": null,
      "outputs": [
        {
          "output_type": "execute_result",
          "data": {
            "text/plain": [
              "3.3333333333333335"
            ]
          },
          "metadata": {},
          "execution_count": 4
        }
      ]
    },
    {
      "cell_type": "code",
      "source": [
        "# Integer Division\n",
        "10 // 3"
      ],
      "metadata": {
        "id": "G4OVVEr4opfg",
        "outputId": "ec1cad74-2c29-4287-ec6b-bc5b15ef7675",
        "colab": {
          "base_uri": "https://localhost:8080/"
        }
      },
      "execution_count": null,
      "outputs": [
        {
          "output_type": "execute_result",
          "data": {
            "text/plain": [
              "3"
            ]
          },
          "metadata": {},
          "execution_count": 5
        }
      ]
    },
    {
      "cell_type": "markdown",
      "source": [],
      "metadata": {
        "id": "5cLtg661hoCb"
      }
    },
    {
      "cell_type": "code",
      "source": [
        "# Exponential\n",
        "2**3"
      ],
      "metadata": {
        "colab": {
          "base_uri": "https://localhost:8080/"
        },
        "id": "ZU1unuiEhrbx",
        "outputId": "df56ad7e-3778-4edb-ce22-ce9c5030c7de"
      },
      "execution_count": 1,
      "outputs": [
        {
          "output_type": "execute_result",
          "data": {
            "text/plain": [
              "8"
            ]
          },
          "metadata": {},
          "execution_count": 1
        }
      ]
    },
    {
      "cell_type": "markdown",
      "source": [
        "## 3.2. Composite operations and Parenthesis\n",
        "\n",
        "Operator "
      ],
      "metadata": {
        "id": "-V_vaCach9i9"
      }
    },
    {
      "cell_type": "code",
      "source": [
        "# Example\n",
        "\n",
        "2 + 3*4"
      ],
      "metadata": {
        "colab": {
          "base_uri": "https://localhost:8080/"
        },
        "id": "Z9YdD32HiPLw",
        "outputId": "7405baab-b9ec-42f9-8a69-97031946a33b"
      },
      "execution_count": 2,
      "outputs": [
        {
          "output_type": "execute_result",
          "data": {
            "text/plain": [
              "14"
            ]
          },
          "metadata": {},
          "execution_count": 2
        }
      ]
    },
    {
      "cell_type": "markdown",
      "source": [
        "You can change the operator precedence using **parenthesis**"
      ],
      "metadata": {
        "id": "OR1U9ITdiUZL"
      }
    },
    {
      "cell_type": "code",
      "source": [
        "# Example\n",
        "(2 + 3)*4"
      ],
      "metadata": {
        "colab": {
          "base_uri": "https://localhost:8080/"
        },
        "id": "M-ZOdJrLihus",
        "outputId": "af6f0ab1-b647-4222-ff40-88d5e214743c"
      },
      "execution_count": 3,
      "outputs": [
        {
          "output_type": "execute_result",
          "data": {
            "text/plain": [
              "20"
            ]
          },
          "metadata": {},
          "execution_count": 3
        }
      ]
    },
    {
      "cell_type": "markdown",
      "source": [],
      "metadata": {
        "id": "zF7YIQ8hmI9J"
      }
    },
    {
      "cell_type": "markdown",
      "source": [
        "## 3.3. Integers and Real Numbers\n",
        "\n"
      ],
      "metadata": {
        "id": "2hXTqycvisjP"
      }
    },
    {
      "cell_type": "markdown",
      "source": [
        "### Type "
      ],
      "metadata": {
        "id": "4mIW1p2DlfN9"
      }
    },
    {
      "cell_type": "code",
      "source": [
        "# Example: Integer ( with no decimal positions) \n",
        "type(26)"
      ],
      "metadata": {
        "colab": {
          "base_uri": "https://localhost:8080/"
        },
        "id": "KBfufQAgjpO8",
        "outputId": "867dd11c-95c1-4dd2-bd31-83d72944bf23"
      },
      "execution_count": 4,
      "outputs": [
        {
          "output_type": "execute_result",
          "data": {
            "text/plain": [
              "int"
            ]
          },
          "metadata": {},
          "execution_count": 4
        }
      ]
    },
    {
      "cell_type": "code",
      "source": [
        "# Example: Real Number (with decimal positions) \n",
        "type(26.0)"
      ],
      "metadata": {
        "colab": {
          "base_uri": "https://localhost:8080/"
        },
        "id": "OasQ9IpBj9O4",
        "outputId": "6cd49730-9045-4540-8226-3e13cf6c0dfd"
      },
      "execution_count": 6,
      "outputs": [
        {
          "output_type": "execute_result",
          "data": {
            "text/plain": [
              "float"
            ]
          },
          "metadata": {},
          "execution_count": 6
        }
      ]
    },
    {
      "cell_type": "code",
      "source": [
        "# Examples\n",
        "# Find out if the next expressions ar int or floats\n",
        "2+3.0\n",
        "2.5*7\n",
        "4.8/2"
      ],
      "metadata": {
        "id": "oFNiQb-5i3yP"
      },
      "execution_count": null,
      "outputs": []
    },
    {
      "cell_type": "code",
      "source": [
        "type(2+3.0)"
      ],
      "metadata": {
        "colab": {
          "base_uri": "https://localhost:8080/"
        },
        "id": "OARRAOI6kyPZ",
        "outputId": "a875664e-e8db-4cb5-d18a-e996107b0dbe"
      },
      "execution_count": 7,
      "outputs": [
        {
          "output_type": "execute_result",
          "data": {
            "text/plain": [
              "float"
            ]
          },
          "metadata": {},
          "execution_count": 7
        }
      ]
    },
    {
      "cell_type": "code",
      "source": [
        "type(2.5*7)"
      ],
      "metadata": {
        "colab": {
          "base_uri": "https://localhost:8080/"
        },
        "id": "Nq8GGB7jlHFp",
        "outputId": "c21de528-c010-4e34-f3b9-5405bd6d934a"
      },
      "execution_count": 8,
      "outputs": [
        {
          "output_type": "execute_result",
          "data": {
            "text/plain": [
              "float"
            ]
          },
          "metadata": {},
          "execution_count": 8
        }
      ]
    },
    {
      "cell_type": "code",
      "source": [
        "type(4.8/2) "
      ],
      "metadata": {
        "colab": {
          "base_uri": "https://localhost:8080/"
        },
        "id": "qt_Wz0QTlMY6",
        "outputId": "0128f590-75f1-4e66-a818-469852d5e59a"
      },
      "execution_count": 9,
      "outputs": [
        {
          "output_type": "execute_result",
          "data": {
            "text/plain": [
              "float"
            ]
          },
          "metadata": {},
          "execution_count": 9
        }
      ]
    },
    {
      "cell_type": "markdown",
      "source": [
        "### Scientific notation\n"
      ],
      "metadata": {
        "id": "-RliYEOpmMPJ"
      }
    },
    {
      "cell_type": "code",
      "source": [
        "#Example\n",
        "5e1"
      ],
      "metadata": {
        "colab": {
          "base_uri": "https://localhost:8080/"
        },
        "id": "RCoGvczEn2ai",
        "outputId": "6304c23a-e444-43d9-a61f-61dddec127ab"
      },
      "execution_count": 10,
      "outputs": [
        {
          "output_type": "execute_result",
          "data": {
            "text/plain": [
              "50.0"
            ]
          },
          "metadata": {},
          "execution_count": 10
        }
      ]
    },
    {
      "cell_type": "code",
      "source": [
        "# Examples\n",
        "6e-2"
      ],
      "metadata": {
        "colab": {
          "base_uri": "https://localhost:8080/"
        },
        "id": "IIct8hSuoGuy",
        "outputId": "b23d90ee-6763-4763-fc48-154308acd982"
      },
      "execution_count": 11,
      "outputs": [
        {
          "output_type": "execute_result",
          "data": {
            "text/plain": [
              "0.06"
            ]
          },
          "metadata": {},
          "execution_count": 11
        }
      ]
    },
    {
      "cell_type": "code",
      "source": [
        "type(5e1)"
      ],
      "metadata": {
        "colab": {
          "base_uri": "https://localhost:8080/"
        },
        "id": "hCCh3bhloTVT",
        "outputId": "96b77c9b-fdd6-4154-8d33-5fcdff3bdc83"
      },
      "execution_count": 12,
      "outputs": [
        {
          "output_type": "execute_result",
          "data": {
            "text/plain": [
              "float"
            ]
          },
          "metadata": {},
          "execution_count": 12
        }
      ]
    },
    {
      "cell_type": "code",
      "source": [
        "# Practice \n",
        "# Write million in stcientific notation\n",
        "# what is the result of 3e0.2"
      ],
      "metadata": {
        "id": "C3Y3ZK44ok6F"
      },
      "execution_count": null,
      "outputs": []
    },
    {
      "cell_type": "code",
      "source": [
        "1e6"
      ],
      "metadata": {
        "colab": {
          "base_uri": "https://localhost:8080/"
        },
        "id": "49NiNXk9o34J",
        "outputId": "ac474578-e8ae-46e9-f61c-19a93c2e67ec"
      },
      "execution_count": 16,
      "outputs": [
        {
          "output_type": "execute_result",
          "data": {
            "text/plain": [
              "1000000.0"
            ]
          },
          "metadata": {},
          "execution_count": 16
        }
      ]
    },
    {
      "cell_type": "markdown",
      "source": [],
      "metadata": {
        "id": "Tg6ExcV8qQ-g"
      }
    },
    {
      "cell_type": "markdown",
      "source": [
        "### Transformation\n",
        "You can change the type() of a number. Or you can force a type() of a number."
      ],
      "metadata": {
        "id": "maTRGWhpqS8K"
      }
    },
    {
      "cell_type": "code",
      "source": [
        "# Example \n",
        "float (6)"
      ],
      "metadata": {
        "colab": {
          "base_uri": "https://localhost:8080/"
        },
        "id": "BKrBvL5iqsxx",
        "outputId": "1b1a2213-b501-4dfd-fd78-f9b647733574"
      },
      "execution_count": 18,
      "outputs": [
        {
          "output_type": "execute_result",
          "data": {
            "text/plain": [
              "6.0"
            ]
          },
          "metadata": {},
          "execution_count": 18
        }
      ]
    },
    {
      "cell_type": "code",
      "source": [
        "# Example\n",
        "\n",
        "int(3.3333)"
      ],
      "metadata": {
        "colab": {
          "base_uri": "https://localhost:8080/"
        },
        "id": "RAzNMTGhqmEv",
        "outputId": "8327b437-7376-41dd-de28-526198e80008"
      },
      "execution_count": 17,
      "outputs": [
        {
          "output_type": "execute_result",
          "data": {
            "text/plain": [
              "3"
            ]
          },
          "metadata": {},
          "execution_count": 17
        }
      ]
    }
  ]
}