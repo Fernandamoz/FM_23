{
  "nbformat": 4,
  "nbformat_minor": 0,
  "metadata": {
    "colab": {
      "provenance": [],
      "authorship_tag": "ABX9TyPC2Esf1brLdhu7JlLoepPo",
      "include_colab_link": true
    },
    "kernelspec": {
      "name": "python3",
      "display_name": "Python 3"
    },
    "language_info": {
      "name": "python"
    }
  },
  "cells": [
    {
      "cell_type": "markdown",
      "metadata": {
        "id": "view-in-github",
        "colab_type": "text"
      },
      "source": [
        "<a href=\"https://colab.research.google.com/github/mariafernandamr/MariaFernanda-DataVisualization2023/blob/main/01_Python_Basics.ipynb\" target=\"_parent\"><img src=\"https://colab.research.google.com/assets/colab-badge.svg\" alt=\"Open In Colab\"/></a>"
      ]
    },
    {
      "cell_type": "code",
      "execution_count": null,
      "metadata": {
        "id": "P7xGZ7JOjvKI"
      },
      "outputs": [],
      "source": []
    },
    {
      "cell_type": "markdown",
      "source": [],
      "metadata": {
        "id": "-KMqccPJdTml"
      }
    },
    {
      "cell_type": "markdown",
      "source": [],
      "metadata": {
        "id": "DYUWxE95hlge"
      }
    },
    {
      "cell_type": "markdown",
      "source": [
        "# Introduction\n",
        "\n",
        "Here, in this file, we are going to *code*\n",
        "\n",
        "We are going to understand Python, how it works, and some tricks.\n"
      ],
      "metadata": {
        "id": "6LK310gokDDo"
      }
    },
    {
      "cell_type": "markdown",
      "source": [
        "# 1. What is Python?\n",
        "\n",
        "It was created in 1991 and it is a **general-purpouse programming language**\n",
        "\n",
        "This means that Python is used for:\n",
        "\n",
        "* Data analysis\n",
        "*Automatic task\n",
        "* Machine learning\n",
        "* Data visualization\n",
        "* Optimization\n",
        "* Web development \n",
        "* User interfaces creation\n",
        "* Create  another software\n",
        "* Create video games \n",
        "\n",
        "\n",
        "The world runs on Python, C++ ,  Java and HTLM / CSS an R?\n",
        "\n",
        "\n",
        "\n",
        "\n",
        "\n",
        "\n",
        "\n",
        "\n",
        "\n",
        "\n"
      ],
      "metadata": {
        "id": "JPdm6C0dkZ8E"
      }
    },
    {
      "cell_type": "markdown",
      "source": [
        "# 2. Why Python?\n",
        "\n",
        "The main reasons:\n",
        "\n",
        "* It is simple.\n",
        "* Focus.\n",
        "* Easy to learn.\n",
        "* Open-source: it is free\n",
        "* Cross-plataform\n",
        "* Extensive libraries\n"
      ],
      "metadata": {
        "id": "b62TAggGlrfO"
      }
    },
    {
      "cell_type": "markdown",
      "source": [
        "# 3. Getting Started \n"
      ],
      "metadata": {
        "id": "dvexx2CLmxdl"
      }
    },
    {
      "cell_type": "markdown",
      "source": [
        "\n",
        "\n",
        "```\n",
        "# Esto tiene formato de código\n",
        "```\n",
        "\n",
        "## 3.1. Python as a Calculator"
      ],
      "metadata": {
        "id": "wQ2HlKJCm50F"
      }
    },
    {
      "cell_type": "code",
      "source": [
        "# Addition\n",
        "2 + 2"
      ],
      "metadata": {
        "colab": {
          "base_uri": "https://localhost:8080/"
        },
        "id": "6CHEMjQlnHJG",
        "outputId": "0ff4837d-e1d8-48a6-e9c3-da66cce2627e"
      },
      "execution_count": null,
      "outputs": [
        {
          "output_type": "execute_result",
          "data": {
            "text/plain": [
              "4"
            ]
          },
          "metadata": {},
          "execution_count": 1
        }
      ]
    },
    {
      "cell_type": "code",
      "source": [
        "# Subtraction \n",
        "23 - 7"
      ],
      "metadata": {
        "colab": {
          "base_uri": "https://localhost:8080/"
        },
        "id": "8vqS79jioHJU",
        "outputId": "5a31c381-cf30-4121-e4f9-1a350d96a837"
      },
      "execution_count": null,
      "outputs": [
        {
          "output_type": "execute_result",
          "data": {
            "text/plain": [
              "16"
            ]
          },
          "metadata": {},
          "execution_count": 2
        }
      ]
    },
    {
      "cell_type": "code",
      "source": [
        "# Multiplication \n",
        "13 * 7"
      ],
      "metadata": {
        "colab": {
          "base_uri": "https://localhost:8080/"
        },
        "id": "HBhk6j_doSUE",
        "outputId": "ddf972c2-3787-4fc9-b17e-9c984d2ca7ed"
      },
      "execution_count": null,
      "outputs": [
        {
          "output_type": "execute_result",
          "data": {
            "text/plain": [
              "91"
            ]
          },
          "metadata": {},
          "execution_count": 3
        }
      ]
    },
    {
      "cell_type": "code",
      "source": [
        "# Division\n",
        "10 / 3"
      ],
      "metadata": {
        "colab": {
          "base_uri": "https://localhost:8080/"
        },
        "id": "mvlIgG59oZf2",
        "outputId": "8517c4e8-fab7-4352-b74c-1d0e92ef2939"
      },
      "execution_count": null,
      "outputs": [
        {
          "output_type": "execute_result",
          "data": {
            "text/plain": [
              "3.3333333333333335"
            ]
          },
          "metadata": {},
          "execution_count": 4
        }
      ]
    },
    {
      "cell_type": "code",
      "source": [
        "# Integer Division\n",
        "10 // 3"
      ],
      "metadata": {
        "id": "G4OVVEr4opfg",
        "outputId": "ec1cad74-2c29-4287-ec6b-bc5b15ef7675",
        "colab": {
          "base_uri": "https://localhost:8080/"
        }
      },
      "execution_count": null,
      "outputs": [
        {
          "output_type": "execute_result",
          "data": {
            "text/plain": [
              "3"
            ]
          },
          "metadata": {},
          "execution_count": 5
        }
      ]
    },
    {
      "cell_type": "markdown",
      "source": [],
      "metadata": {
        "id": "5cLtg661hoCb"
      }
    },
    {
      "cell_type": "code",
      "source": [
        "# Exponential\n",
        "2**3"
      ],
      "metadata": {
        "colab": {
          "base_uri": "https://localhost:8080/"
        },
        "id": "ZU1unuiEhrbx",
        "outputId": "df56ad7e-3778-4edb-ce22-ce9c5030c7de"
      },
      "execution_count": null,
      "outputs": [
        {
          "output_type": "execute_result",
          "data": {
            "text/plain": [
              "8"
            ]
          },
          "metadata": {},
          "execution_count": 1
        }
      ]
    },
    {
      "cell_type": "markdown",
      "source": [
        "## 3.2. Composite operations and Parenthesis\n",
        "\n",
        "Operator "
      ],
      "metadata": {
        "id": "-V_vaCach9i9"
      }
    },
    {
      "cell_type": "code",
      "source": [
        "# Example\n",
        "\n",
        "2 + 3*4"
      ],
      "metadata": {
        "colab": {
          "base_uri": "https://localhost:8080/"
        },
        "id": "Z9YdD32HiPLw",
        "outputId": "7405baab-b9ec-42f9-8a69-97031946a33b"
      },
      "execution_count": null,
      "outputs": [
        {
          "output_type": "execute_result",
          "data": {
            "text/plain": [
              "14"
            ]
          },
          "metadata": {},
          "execution_count": 2
        }
      ]
    },
    {
      "cell_type": "markdown",
      "source": [
        "You can change the operator precedence using **parenthesis**"
      ],
      "metadata": {
        "id": "OR1U9ITdiUZL"
      }
    },
    {
      "cell_type": "code",
      "source": [
        "# Example\n",
        "(2 + 3)*4"
      ],
      "metadata": {
        "colab": {
          "base_uri": "https://localhost:8080/"
        },
        "id": "M-ZOdJrLihus",
        "outputId": "af6f0ab1-b647-4222-ff40-88d5e214743c"
      },
      "execution_count": null,
      "outputs": [
        {
          "output_type": "execute_result",
          "data": {
            "text/plain": [
              "20"
            ]
          },
          "metadata": {},
          "execution_count": 3
        }
      ]
    },
    {
      "cell_type": "markdown",
      "source": [],
      "metadata": {
        "id": "zF7YIQ8hmI9J"
      }
    },
    {
      "cell_type": "markdown",
      "source": [
        "## 3.3. Integers and Real Numbers\n",
        "\n"
      ],
      "metadata": {
        "id": "2hXTqycvisjP"
      }
    },
    {
      "cell_type": "markdown",
      "source": [
        "### Type "
      ],
      "metadata": {
        "id": "4mIW1p2DlfN9"
      }
    },
    {
      "cell_type": "code",
      "source": [
        "# Example: Integer ( with no decimal positions) \n",
        "type(26)"
      ],
      "metadata": {
        "colab": {
          "base_uri": "https://localhost:8080/"
        },
        "id": "KBfufQAgjpO8",
        "outputId": "867dd11c-95c1-4dd2-bd31-83d72944bf23"
      },
      "execution_count": null,
      "outputs": [
        {
          "output_type": "execute_result",
          "data": {
            "text/plain": [
              "int"
            ]
          },
          "metadata": {},
          "execution_count": 4
        }
      ]
    },
    {
      "cell_type": "code",
      "source": [
        "# Example: Real Number (with decimal positions) \n",
        "type(26.0)"
      ],
      "metadata": {
        "colab": {
          "base_uri": "https://localhost:8080/"
        },
        "id": "OasQ9IpBj9O4",
        "outputId": "6cd49730-9045-4540-8226-3e13cf6c0dfd"
      },
      "execution_count": null,
      "outputs": [
        {
          "output_type": "execute_result",
          "data": {
            "text/plain": [
              "float"
            ]
          },
          "metadata": {},
          "execution_count": 6
        }
      ]
    },
    {
      "cell_type": "code",
      "source": [
        "# Examples\n",
        "# Find out if the next expressions ar int or floats\n",
        "2+3.0\n",
        "2.5*7\n",
        "4.8/2"
      ],
      "metadata": {
        "id": "oFNiQb-5i3yP"
      },
      "execution_count": null,
      "outputs": []
    },
    {
      "cell_type": "code",
      "source": [
        "type(2+3.0)"
      ],
      "metadata": {
        "colab": {
          "base_uri": "https://localhost:8080/"
        },
        "id": "OARRAOI6kyPZ",
        "outputId": "a875664e-e8db-4cb5-d18a-e996107b0dbe"
      },
      "execution_count": null,
      "outputs": [
        {
          "output_type": "execute_result",
          "data": {
            "text/plain": [
              "float"
            ]
          },
          "metadata": {},
          "execution_count": 7
        }
      ]
    },
    {
      "cell_type": "code",
      "source": [
        "type(2.5*7)"
      ],
      "metadata": {
        "colab": {
          "base_uri": "https://localhost:8080/"
        },
        "id": "Nq8GGB7jlHFp",
        "outputId": "c21de528-c010-4e34-f3b9-5405bd6d934a"
      },
      "execution_count": null,
      "outputs": [
        {
          "output_type": "execute_result",
          "data": {
            "text/plain": [
              "float"
            ]
          },
          "metadata": {},
          "execution_count": 8
        }
      ]
    },
    {
      "cell_type": "code",
      "source": [
        "type(4.8/2) "
      ],
      "metadata": {
        "colab": {
          "base_uri": "https://localhost:8080/"
        },
        "id": "qt_Wz0QTlMY6",
        "outputId": "0128f590-75f1-4e66-a818-469852d5e59a"
      },
      "execution_count": null,
      "outputs": [
        {
          "output_type": "execute_result",
          "data": {
            "text/plain": [
              "float"
            ]
          },
          "metadata": {},
          "execution_count": 9
        }
      ]
    },
    {
      "cell_type": "markdown",
      "source": [
        "### Scientific notation\n"
      ],
      "metadata": {
        "id": "-RliYEOpmMPJ"
      }
    },
    {
      "cell_type": "code",
      "source": [
        "#Example\n",
        "5e1"
      ],
      "metadata": {
        "colab": {
          "base_uri": "https://localhost:8080/"
        },
        "id": "RCoGvczEn2ai",
        "outputId": "6304c23a-e444-43d9-a61f-61dddec127ab"
      },
      "execution_count": null,
      "outputs": [
        {
          "output_type": "execute_result",
          "data": {
            "text/plain": [
              "50.0"
            ]
          },
          "metadata": {},
          "execution_count": 10
        }
      ]
    },
    {
      "cell_type": "code",
      "source": [
        "# Examples\n",
        "6e-2"
      ],
      "metadata": {
        "colab": {
          "base_uri": "https://localhost:8080/"
        },
        "id": "IIct8hSuoGuy",
        "outputId": "b23d90ee-6763-4763-fc48-154308acd982"
      },
      "execution_count": null,
      "outputs": [
        {
          "output_type": "execute_result",
          "data": {
            "text/plain": [
              "0.06"
            ]
          },
          "metadata": {},
          "execution_count": 11
        }
      ]
    },
    {
      "cell_type": "code",
      "source": [
        "type(5e1)"
      ],
      "metadata": {
        "colab": {
          "base_uri": "https://localhost:8080/"
        },
        "id": "hCCh3bhloTVT",
        "outputId": "96b77c9b-fdd6-4154-8d33-5fcdff3bdc83"
      },
      "execution_count": null,
      "outputs": [
        {
          "output_type": "execute_result",
          "data": {
            "text/plain": [
              "float"
            ]
          },
          "metadata": {},
          "execution_count": 12
        }
      ]
    },
    {
      "cell_type": "code",
      "source": [
        "# Practice \n",
        "# Write million in stcientific notation\n",
        "# what is the result of 3e0.2"
      ],
      "metadata": {
        "id": "C3Y3ZK44ok6F"
      },
      "execution_count": null,
      "outputs": []
    },
    {
      "cell_type": "code",
      "source": [
        "1e6"
      ],
      "metadata": {
        "colab": {
          "base_uri": "https://localhost:8080/"
        },
        "id": "49NiNXk9o34J",
        "outputId": "ac474578-e8ae-46e9-f61c-19a93c2e67ec"
      },
      "execution_count": null,
      "outputs": [
        {
          "output_type": "execute_result",
          "data": {
            "text/plain": [
              "1000000.0"
            ]
          },
          "metadata": {},
          "execution_count": 16
        }
      ]
    },
    {
      "cell_type": "markdown",
      "source": [],
      "metadata": {
        "id": "Tg6ExcV8qQ-g"
      }
    },
    {
      "cell_type": "markdown",
      "source": [
        "### Transformation\n",
        "You can change the type() of a number. Or you can force a type() of a number."
      ],
      "metadata": {
        "id": "maTRGWhpqS8K"
      }
    },
    {
      "cell_type": "code",
      "source": [
        "# Example \n",
        "float (6)"
      ],
      "metadata": {
        "colab": {
          "base_uri": "https://localhost:8080/"
        },
        "id": "BKrBvL5iqsxx",
        "outputId": "1b1a2213-b501-4dfd-fd78-f9b647733574"
      },
      "execution_count": null,
      "outputs": [
        {
          "output_type": "execute_result",
          "data": {
            "text/plain": [
              "6.0"
            ]
          },
          "metadata": {},
          "execution_count": 18
        }
      ]
    },
    {
      "cell_type": "code",
      "source": [
        "# Example\n",
        "\n",
        "int(3.3333)"
      ],
      "metadata": {
        "colab": {
          "base_uri": "https://localhost:8080/"
        },
        "id": "RAzNMTGhqmEv",
        "outputId": "8327b437-7376-41dd-de28-526198e80008"
      },
      "execution_count": null,
      "outputs": [
        {
          "output_type": "execute_result",
          "data": {
            "text/plain": [
              "3"
            ]
          },
          "metadata": {},
          "execution_count": 17
        }
      ]
    },
    {
      "cell_type": "markdown",
      "source": [
        "## 3.4. Basic and useful functions\n",
        "\n",
        "Funtions let us do things more effciciently. "
      ],
      "metadata": {
        "id": "GGFnH_j8dXD0"
      }
    },
    {
      "cell_type": "code",
      "source": [],
      "metadata": {
        "id": "fgDizROVgm2y"
      },
      "execution_count": null,
      "outputs": []
    },
    {
      "cell_type": "markdown",
      "source": [
        "### **Print**"
      ],
      "metadata": {
        "id": "OPC4gcerePqU"
      }
    },
    {
      "cell_type": "markdown",
      "source": [],
      "metadata": {
        "id": "0VnioB4xeYSe"
      }
    },
    {
      "cell_type": "code",
      "source": [
        "# Example with numbers\n",
        "\n",
        "print(2023)\n",
        "print(2024)\n",
        "print(22,2,2022)"
      ],
      "metadata": {
        "colab": {
          "base_uri": "https://localhost:8080/"
        },
        "id": "t25tyW7Ieh0Q",
        "outputId": "620652cc-23bc-40d8-bcfa-76907e7beaf3"
      },
      "execution_count": null,
      "outputs": [
        {
          "output_type": "stream",
          "name": "stdout",
          "text": [
            "2023\n",
            "2024\n",
            "22 2 2022\n"
          ]
        }
      ]
    },
    {
      "cell_type": "code",
      "source": [
        "# Example\n",
        "\n",
        "for i in range (0,11): print(i)"
      ],
      "metadata": {
        "colab": {
          "base_uri": "https://localhost:8080/"
        },
        "id": "lejVwJOAgnyF",
        "outputId": "2be801cf-6591-43a5-ed90-88b724159372"
      },
      "execution_count": null,
      "outputs": [
        {
          "output_type": "stream",
          "name": "stdout",
          "text": [
            "0\n",
            "1\n",
            "2\n",
            "3\n",
            "4\n",
            "5\n",
            "6\n",
            "7\n",
            "8\n",
            "9\n",
            "10\n"
          ]
        }
      ]
    },
    {
      "cell_type": "markdown",
      "source": [
        "Si quiero que el rango llegue hasta 10 hay que poner un numero de mas, si quiero poner 10 se debe poner (0,11)\n",
        "\n",
        "If I want the range to reach 10, I must put an extra number, if I want to put 10, I must put (0.11)\n"
      ],
      "metadata": {
        "id": "3RE9C07HhE3M"
      }
    },
    {
      "cell_type": "code",
      "source": [
        "# Example - With text\n",
        "\n",
        "print('Hello world')\n",
        "print('First Name: Maria' , 'Second Name: Fernanda')\n",
        "print('First Name: Maria' , '\\tSecond Name: Fernanda')\n",
        "print('First Name: Maria' , '\\nSecond Name: Fernanda')"
      ],
      "metadata": {
        "colab": {
          "base_uri": "https://localhost:8080/"
        },
        "id": "AoaCAdn-hLU8",
        "outputId": "22b6df3d-4648-4410-b891-d37400b44c3b"
      },
      "execution_count": null,
      "outputs": [
        {
          "output_type": "stream",
          "name": "stdout",
          "text": [
            "Hello world\n",
            "First Name: Maria Second Name: Fernanda\n",
            "First Name: Maria \tSecond Name: Fernanda\n",
            "First Name: Maria \n",
            "Second Name: Fernanda\n"
          ]
        }
      ]
    },
    {
      "cell_type": "code",
      "source": [
        "#Example - text and numbers\n",
        "\n",
        "print('My lucky number is:', 21)"
      ],
      "metadata": {
        "colab": {
          "base_uri": "https://localhost:8080/"
        },
        "id": "TbaoT1h8iw6b",
        "outputId": "d609e824-5c91-42de-eacc-1078963932cf"
      },
      "execution_count": null,
      "outputs": [
        {
          "output_type": "stream",
          "name": "stdout",
          "text": [
            "My lucky number is: 21\n"
          ]
        }
      ]
    },
    {
      "cell_type": "markdown",
      "source": [
        "### **Round**\n",
        "\n",
        "It will the us to control the decimal positions."
      ],
      "metadata": {
        "id": "P0HMd6iBjKMI"
      }
    },
    {
      "cell_type": "code",
      "source": [
        "# Example\n",
        "# Consider 8.53214794\n",
        "#Let's use round\n",
        "\n",
        "round(8.53214794,0)\n",
        "print('The aproximation of',8.53214794, 'with',0,'decimals is:', round(8.53214794,0))\n",
        "print('The aproximation of',8.53214794, 'with',1,'decimals is:', round(8.53214794,1))\n"
      ],
      "metadata": {
        "colab": {
          "base_uri": "https://localhost:8080/"
        },
        "id": "j-9bx2-Ujhhf",
        "outputId": "fca86ba7-4c34-44e1-a6ce-3ac491cd36a1"
      },
      "execution_count": null,
      "outputs": [
        {
          "output_type": "stream",
          "name": "stdout",
          "text": [
            "The aproximation of 8.53214794 with 0 decimals is: 9.0\n",
            "The aproximation of 8.53214794 with 1 decimals is: 8.5\n"
          ]
        }
      ]
    },
    {
      "cell_type": "code",
      "source": [
        "\n",
        "print('The aproximation of',8.53214794, 'with')\n",
        "print(0,'decimals is:', round(8.53214794,0))\n",
        "print(1,'decimals is:', round(8.53214794,1))\n",
        "\n",
        "\n",
        "print('\\nThe aproximation of',8.53214794, 'with decimals is')\n",
        "print(0,':', round(8.53214794,0))\n",
        "print(1,':', round(8.53214794,1))\n",
        "\n",
        "print('\\nThe aproximation of',8.53214794, 'with:')\n",
        "print('Decimals','Result')\n",
        "print(0,'\\t', round(8.53214794,0))\n",
        "print(1,'\\t', round(8.53214794,1))"
      ],
      "metadata": {
        "colab": {
          "base_uri": "https://localhost:8080/"
        },
        "outputId": "e84d5502-8e8d-46d1-d824-346dc44fa716",
        "id": "t98hKSJ_m15g"
      },
      "execution_count": null,
      "outputs": [
        {
          "output_type": "stream",
          "name": "stdout",
          "text": [
            "The aproximation of 8.53214794 with\n",
            "0 decimals is: 9.0\n",
            "1 decimals is: 8.5\n",
            "\n",
            "The aproximation of 8.53214794 with decimals is\n",
            "0 : 9.0\n",
            "1 : 8.5\n",
            "\n",
            "The aproximation of 8.53214794 with:\n",
            "Decimals Result\n",
            "0 \t 9.0\n",
            "1 \t 8.5\n"
          ]
        }
      ]
    },
    {
      "cell_type": "code",
      "source": [
        "#Loop\n",
        "\n",
        "print('\\nThe aproximation of',8.53214794, 'with:')\n",
        "print('Decimals','Result')\n",
        "for i in range (0,8): print(i,'\\t', round(8.53214794,i))"
      ],
      "metadata": {
        "colab": {
          "base_uri": "https://localhost:8080/"
        },
        "outputId": "123fbd30-d642-44dc-c840-37e5aba90b11",
        "id": "WGe-7nzrr1E2"
      },
      "execution_count": null,
      "outputs": [
        {
          "output_type": "stream",
          "name": "stdout",
          "text": [
            "\n",
            "The aproximation of 8.53214794 with:\n",
            "Decimals Result\n",
            "0 \t 9.0\n",
            "1 \t 8.5\n",
            "2 \t 8.53\n",
            "3 \t 8.532\n",
            "4 \t 8.5321\n",
            "5 \t 8.53215\n",
            "6 \t 8.532148\n",
            "7 \t 8.5321479\n"
          ]
        }
      ]
    },
    {
      "cell_type": "code",
      "source": [
        "print('\\nMultiples of',2,'with:')\n",
        "print('Multiples','Result')\n",
        "for i in range (1,101): print(i,'\\t', (2*i))"
      ],
      "metadata": {
        "colab": {
          "base_uri": "https://localhost:8080/"
        },
        "id": "EiwukzSVsl4U",
        "outputId": "f91e6b52-7527-4946-cff0-e533eff1743f"
      },
      "execution_count": null,
      "outputs": [
        {
          "output_type": "stream",
          "name": "stdout",
          "text": [
            "\n",
            "Multiples of 2 with:\n",
            "Multiples Result\n",
            "1 \t 2\n",
            "2 \t 4\n",
            "3 \t 6\n",
            "4 \t 8\n",
            "5 \t 10\n",
            "6 \t 12\n",
            "7 \t 14\n",
            "8 \t 16\n",
            "9 \t 18\n",
            "10 \t 20\n",
            "11 \t 22\n",
            "12 \t 24\n",
            "13 \t 26\n",
            "14 \t 28\n",
            "15 \t 30\n",
            "16 \t 32\n",
            "17 \t 34\n",
            "18 \t 36\n",
            "19 \t 38\n",
            "20 \t 40\n",
            "21 \t 42\n",
            "22 \t 44\n",
            "23 \t 46\n",
            "24 \t 48\n",
            "25 \t 50\n",
            "26 \t 52\n",
            "27 \t 54\n",
            "28 \t 56\n",
            "29 \t 58\n",
            "30 \t 60\n",
            "31 \t 62\n",
            "32 \t 64\n",
            "33 \t 66\n",
            "34 \t 68\n",
            "35 \t 70\n",
            "36 \t 72\n",
            "37 \t 74\n",
            "38 \t 76\n",
            "39 \t 78\n",
            "40 \t 80\n",
            "41 \t 82\n",
            "42 \t 84\n",
            "43 \t 86\n",
            "44 \t 88\n",
            "45 \t 90\n",
            "46 \t 92\n",
            "47 \t 94\n",
            "48 \t 96\n",
            "49 \t 98\n",
            "50 \t 100\n",
            "51 \t 102\n",
            "52 \t 104\n",
            "53 \t 106\n",
            "54 \t 108\n",
            "55 \t 110\n",
            "56 \t 112\n",
            "57 \t 114\n",
            "58 \t 116\n",
            "59 \t 118\n",
            "60 \t 120\n",
            "61 \t 122\n",
            "62 \t 124\n",
            "63 \t 126\n",
            "64 \t 128\n",
            "65 \t 130\n",
            "66 \t 132\n",
            "67 \t 134\n",
            "68 \t 136\n",
            "69 \t 138\n",
            "70 \t 140\n",
            "71 \t 142\n",
            "72 \t 144\n",
            "73 \t 146\n",
            "74 \t 148\n",
            "75 \t 150\n",
            "76 \t 152\n",
            "77 \t 154\n",
            "78 \t 156\n",
            "79 \t 158\n",
            "80 \t 160\n",
            "81 \t 162\n",
            "82 \t 164\n",
            "83 \t 166\n",
            "84 \t 168\n",
            "85 \t 170\n",
            "86 \t 172\n",
            "87 \t 174\n",
            "88 \t 176\n",
            "89 \t 178\n",
            "90 \t 180\n",
            "91 \t 182\n",
            "92 \t 184\n",
            "93 \t 186\n",
            "94 \t 188\n",
            "95 \t 190\n",
            "96 \t 192\n",
            "97 \t 194\n",
            "98 \t 196\n",
            "99 \t 198\n",
            "100 \t 200\n"
          ]
        }
      ]
    }
  ]
}