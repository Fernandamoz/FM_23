{
  "nbformat": 4,
  "nbformat_minor": 0,
  "metadata": {
    "colab": {
      "provenance": [],
      "authorship_tag": "ABX9TyPS/NAVGe9lF4WT6qQrdb78",
      "include_colab_link": true
    },
    "kernelspec": {
      "name": "python3",
      "display_name": "Python 3"
    },
    "language_info": {
      "name": "python"
    }
  },
  "cells": [
    {
      "cell_type": "markdown",
      "metadata": {
        "id": "view-in-github",
        "colab_type": "text"
      },
      "source": [
        "<a href=\"https://colab.research.google.com/github/mariafernandamr/MariaFernanda-DataVisualization2023/blob/main/03_Data_Structures.ipynb\" target=\"_parent\"><img src=\"https://colab.research.google.com/assets/colab-badge.svg\" alt=\"Open In Colab\"/></a>"
      ]
    },
    {
      "cell_type": "markdown",
      "source": [
        "# **1. What is a DS?**\n",
        "\n",
        "A DS is an object that let us store more than one value.\n",
        "\n",
        "Formally, a DS i s a **Sequence** of values which can be located with an index."
      ],
      "metadata": {
        "id": "mQZPvCqpua7S"
      }
    },
    {
      "cell_type": "markdown",
      "source": [
        "# **2. Linear Algebra**"
      ],
      "metadata": {
        "id": "XS3MAclHwY9b"
      }
    },
    {
      "cell_type": "markdown",
      "source": [
        "## 2.1. What is Numpy?\n",
        "\n",
        "Numpy (Numerical Python) is a collection of functions and method."
      ],
      "metadata": {
        "id": "pukMH0gjw_eX"
      }
    },
    {
      "cell_type": "code",
      "source": [
        "# Install the libabry\n",
        "\n",
        "import numpy as np "
      ],
      "metadata": {
        "id": "qT1Yxgb6xtoa"
      },
      "execution_count": 2,
      "outputs": []
    }
  ]
}