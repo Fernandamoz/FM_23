{
  "nbformat": 4,
  "nbformat_minor": 0,
  "metadata": {
    "colab": {
      "provenance": [],
      "authorship_tag": "ABX9TyPZKVDmVOtsyDxEDrTZU4W3",
      "include_colab_link": true
    },
    "kernelspec": {
      "name": "python3",
      "display_name": "Python 3"
    },
    "language_info": {
      "name": "python"
    }
  },
  "cells": [
    {
      "cell_type": "markdown",
      "metadata": {
        "id": "view-in-github",
        "colab_type": "text"
      },
      "source": [
        "<a href=\"https://colab.research.google.com/github/mariafernandamr/MariaFernanda-DataVisualization2023/blob/main/03_Data_Structures.ipynb\" target=\"_parent\"><img src=\"https://colab.research.google.com/assets/colab-badge.svg\" alt=\"Open In Colab\"/></a>"
      ]
    },
    {
      "cell_type": "markdown",
      "source": [
        "# **1. What is a DS?**\n",
        "\n",
        "A DS is an object that let us store more than one value.\n",
        "\n",
        "Formally, a DS i s a **Sequence** of values which can be located with an index."
      ],
      "metadata": {
        "id": "mQZPvCqpua7S"
      }
    },
    {
      "cell_type": "markdown",
      "source": [
        "# **2. Linear Algebra**"
      ],
      "metadata": {
        "id": "XS3MAclHwY9b"
      }
    },
    {
      "cell_type": "markdown",
      "source": [
        "## 2.1. What is Numpy?\n",
        "\n",
        "Numpy (Numerical Python) is a collection of functions and method.\n",
        "Siempre hay que correr la celda siempre que se abra el archivo\n"
      ],
      "metadata": {
        "id": "pukMH0gjw_eX"
      }
    },
    {
      "cell_type": "code",
      "source": [
        "# Install the library\n",
        "\n",
        "import numpy as np "
      ],
      "metadata": {
        "id": "qT1Yxgb6xtoa"
      },
      "execution_count": 2,
      "outputs": []
    },
    {
      "cell_type": "markdown",
      "source": [
        "# **2.2 Numpy arrays - vectors and matrices**\n",
        "\n",
        "Vector solo tiene fila - \n",
        "Matriz tiene fila (hacia al lado) y columnas (hacia abajo)\n"
      ],
      "metadata": {
        "id": "pKAGTQkOyi_j"
      }
    },
    {
      "cell_type": "markdown",
      "source": [
        "* *Example 1 - Columna vector*\n",
        "\n"
      ],
      "metadata": {
        "id": "_kL43696y_VT"
      }
    },
    {
      "cell_type": "code",
      "source": [
        "a = np.array([[1],[2],[3]])\n",
        "print(a)\n",
        "print(a.shape)"
      ],
      "metadata": {
        "colab": {
          "base_uri": "https://localhost:8080/"
        },
        "id": "CtnAatsCzwAz",
        "outputId": "2e29e350-64ee-4cc7-f827-ab86cd1b9b3b"
      },
      "execution_count": null,
      "outputs": [
        {
          "output_type": "stream",
          "name": "stdout",
          "text": [
            "[[1]\n",
            " [2]\n",
            " [3]]\n",
            "(3, 1)\n"
          ]
        }
      ]
    },
    {
      "cell_type": "markdown",
      "source": [
        "* *Example 2 - Row vector*"
      ],
      "metadata": {
        "id": "3kDOgPaqneEF"
      }
    },
    {
      "cell_type": "code",
      "source": [
        "b = np.array([[4,5,6]])\n",
        "print(b)\n",
        "print(b.shape)"
      ],
      "metadata": {
        "colab": {
          "base_uri": "https://localhost:8080/"
        },
        "id": "VUw7PDNwneuE",
        "outputId": "0dee8aa8-b644-4084-a1d9-117819046dd0"
      },
      "execution_count": null,
      "outputs": [
        {
          "output_type": "stream",
          "name": "stdout",
          "text": [
            "[[4 5 6]]\n",
            "(1, 3)\n"
          ]
        }
      ]
    },
    {
      "cell_type": "markdown",
      "source": [
        "* *Example 3 - Matrix*"
      ],
      "metadata": {
        "id": "rL5VOZ7en4_o"
      }
    },
    {
      "cell_type": "code",
      "source": [
        "M = np.array([[1,2,3],[4,5,6],[7,8,9]])\n",
        "print(M)\n",
        "print(M.shape)"
      ],
      "metadata": {
        "colab": {
          "base_uri": "https://localhost:8080/"
        },
        "id": "jiZS343zn8vI",
        "outputId": "1bd76105-6238-4b2b-ca60-c4321dd24304"
      },
      "execution_count": null,
      "outputs": [
        {
          "output_type": "stream",
          "name": "stdout",
          "text": [
            "[[1 2 3]\n",
            " [4 5 6]\n",
            " [7 8 9]]\n",
            "(3, 3)\n"
          ]
        }
      ]
    },
    {
      "cell_type": "code",
      "source": [
        "# nice trick\n",
        "\n",
        "nr, nc = M.shape"
      ],
      "metadata": {
        "id": "RRe_9F6aoraQ"
      },
      "execution_count": null,
      "outputs": []
    },
    {
      "cell_type": "markdown",
      "source": [
        "# 2.3. Sciling \n",
        "\n",
        "To access one or several elements of the objects."
      ],
      "metadata": {
        "id": "fdr98tdipOyY"
      }
    },
    {
      "cell_type": "code",
      "source": [
        "# Extract the first element \n",
        "\n",
        "## Column vector\n",
        "print(a[0,0])\n",
        "\n",
        "## Row vector\n",
        "print(b[0,0])\n",
        "\n",
        "## Matrix\n",
        "print(M[0,0])"
      ],
      "metadata": {
        "colab": {
          "base_uri": "https://localhost:8080/"
        },
        "id": "wiXeil02pi40",
        "outputId": "497b2a75-3414-4141-9d78-1fcaf17642d3"
      },
      "execution_count": null,
      "outputs": [
        {
          "output_type": "stream",
          "name": "stdout",
          "text": [
            "1\n",
            "4\n",
            "1\n"
          ]
        }
      ]
    },
    {
      "cell_type": "code",
      "source": [
        "# Extract the last element\n",
        "\n",
        "## Column vector\n",
        "print(a[-1,0])\n",
        "\n",
        "## Row vector\n",
        "print(b[0,-1])\n",
        "\n",
        "## Matrix\n",
        "print(M[-1,-1])"
      ],
      "metadata": {
        "colab": {
          "base_uri": "https://localhost:8080/"
        },
        "id": "F8NfJPLWrINu",
        "outputId": "c2f471b9-0aa6-40a1-92f1-b7d33ec878fe"
      },
      "execution_count": null,
      "outputs": [
        {
          "output_type": "stream",
          "name": "stdout",
          "text": [
            "3\n",
            "6\n",
            "9\n"
          ]
        }
      ]
    },
    {
      "cell_type": "code",
      "source": [
        "# Extract a subset\n",
        "\n",
        "## Column vector\n",
        "print(a[0:2])\n",
        "\n",
        "## Row vector\n",
        "print(b[0,0:2])\n",
        "\n",
        "## Matrix\n",
        "print(M[0:2,0:2])"
      ],
      "metadata": {
        "colab": {
          "base_uri": "https://localhost:8080/"
        },
        "id": "aa6THkezrnQM",
        "outputId": "ad209489-8c18-44b2-c659-826c10805e85"
      },
      "execution_count": null,
      "outputs": [
        {
          "output_type": "stream",
          "name": "stdout",
          "text": [
            "[[1]\n",
            " [2]]\n",
            "[4 5]\n",
            "[[1 2]\n",
            " [4 5]]\n"
          ]
        }
      ]
    },
    {
      "cell_type": "markdown",
      "source": [
        "# 2.4. Methods"
      ],
      "metadata": {
        "id": "Xp9T7DkIs12s"
      }
    },
    {
      "cell_type": "code",
      "source": [
        "# ZEROS\n",
        "z1 = np.zeros(4)\n",
        "print(z1)\n",
        "\n",
        "z2 = np.zeros((3,2))\n",
        "print(z2)"
      ],
      "metadata": {
        "colab": {
          "base_uri": "https://localhost:8080/"
        },
        "id": "eICBIbOos5hZ",
        "outputId": "debda447-07d2-4855-83c2-8135db91ef96"
      },
      "execution_count": null,
      "outputs": [
        {
          "output_type": "stream",
          "name": "stdout",
          "text": [
            "[0. 0. 0. 0.]\n",
            "[[0. 0.]\n",
            " [0. 0.]\n",
            " [0. 0.]]\n"
          ]
        }
      ]
    },
    {
      "cell_type": "code",
      "source": [
        "#ONES\n",
        "o1 = np.ones(4)\n",
        "print(o1)\n",
        "\n",
        "o2 = np.ones((3,2))\n",
        "print(o2)\n",
        "\n",
        "o2*5"
      ],
      "metadata": {
        "colab": {
          "base_uri": "https://localhost:8080/"
        },
        "id": "aB_fZ8IYuNQ4",
        "outputId": "21228749-fffa-4b80-91ed-3636e0412b0c"
      },
      "execution_count": null,
      "outputs": [
        {
          "output_type": "stream",
          "name": "stdout",
          "text": [
            "[1. 1. 1. 1.]\n",
            "[[1. 1.]\n",
            " [1. 1.]\n",
            " [1. 1.]]\n"
          ]
        },
        {
          "output_type": "execute_result",
          "data": {
            "text/plain": [
              "array([[5., 5.],\n",
              "       [5., 5.],\n",
              "       [5., 5.]])"
            ]
          },
          "metadata": {},
          "execution_count": 32
        }
      ]
    },
    {
      "cell_type": "markdown",
      "source": [
        "**ANOTHER CREATION OPTIONS**\n"
      ],
      "metadata": {
        "id": "y36DJ7GjvRSD"
      }
    },
    {
      "cell_type": "code",
      "source": [
        "# Full\n",
        "Se usa para crear matriz con un mismo numero (solo se debe cambiar el numero final)\n",
        "\n",
        "f = np.full((3,2),3.186)\n",
        "print(f)"
      ],
      "metadata": {
        "colab": {
          "base_uri": "https://localhost:8080/"
        },
        "id": "QJUo-vrQvaLK",
        "outputId": "c2786515-1706-4ba7-98e6-83287a90116b"
      },
      "execution_count": null,
      "outputs": [
        {
          "output_type": "stream",
          "name": "stdout",
          "text": [
            "[[3.186 3.186]\n",
            " [3.186 3.186]\n",
            " [3.186 3.186]]\n"
          ]
        }
      ]
    },
    {
      "cell_type": "code",
      "source": [
        "# Linear sequence \n",
        "\n",
        "np.arange(6)\n",
        "\n",
        "#Si se quiere que empiee en 23 y termine en 32\n",
        "np.arange(23,33)\n",
        "\n",
        "#Se incrementa por el valor que uno ponga, en este caso 0.5 (step)\n",
        "np.arange(23,33,0.5) "
      ],
      "metadata": {
        "colab": {
          "base_uri": "https://localhost:8080/"
        },
        "id": "056QiiyBwA0Z",
        "outputId": "8e15f9f8-9e1c-49f8-9a17-9fef99be3f8c"
      },
      "execution_count": null,
      "outputs": [
        {
          "output_type": "execute_result",
          "data": {
            "text/plain": [
              "array([23. , 23.5, 24. , 24.5, 25. , 25.5, 26. , 26.5, 27. , 27.5, 28. ,\n",
              "       28.5, 29. , 29.5, 30. , 30.5, 31. , 31.5, 32. , 32.5])"
            ]
          },
          "metadata": {},
          "execution_count": 41
        }
      ]
    },
    {
      "cell_type": "code",
      "source": [
        "# Linear space \n",
        "# Dividir en partes iguales\n",
        "#Quiero que empiece en 15  termine en 90 y se divida en 6 partes iguales\n",
        "\n",
        "np.linspace(15,90,6)"
      ],
      "metadata": {
        "colab": {
          "base_uri": "https://localhost:8080/"
        },
        "id": "g6QWT7R0xSQy",
        "outputId": "3b68062f-822b-471d-8b51-4e6dd73447aa"
      },
      "execution_count": null,
      "outputs": [
        {
          "output_type": "execute_result",
          "data": {
            "text/plain": [
              "array([15., 30., 45., 60., 75., 90.])"
            ]
          },
          "metadata": {},
          "execution_count": 43
        }
      ]
    },
    {
      "cell_type": "markdown",
      "source": [
        "## 2.5. Random Numbers\n",
        "\n"
      ],
      "metadata": {
        "id": "TLUKcO3dx9Aa"
      }
    },
    {
      "cell_type": "markdown",
      "source": [
        "### Uniform distibution in the interval [0,1)"
      ],
      "metadata": {
        "id": "W_ZfBzlEu_vO"
      }
    },
    {
      "cell_type": "code",
      "source": [
        "# A Single Value\n",
        "\n",
        "#Same number\n",
        "np.random.seed(1234)\n",
        "\n",
        "#A single value - between 0 and 1\n",
        "np.random.rand()"
      ],
      "metadata": {
        "colab": {
          "base_uri": "https://localhost:8080/"
        },
        "id": "DQJPhmJcyUWa",
        "outputId": "9ba58416-3421-417e-80de-b2b795b04ad7"
      },
      "execution_count": null,
      "outputs": [
        {
          "output_type": "execute_result",
          "data": {
            "text/plain": [
              "0.1915194503788923"
            ]
          },
          "metadata": {},
          "execution_count": 51
        }
      ]
    },
    {
      "cell_type": "code",
      "source": [
        "# Example - Toss a coin\n",
        "\n",
        "if np.random.rand() < 0.5 :\n",
        "  print('head') \n",
        "else:\n",
        "  print('tails')"
      ],
      "metadata": {
        "colab": {
          "base_uri": "https://localhost:8080/"
        },
        "id": "05Kjd9pbzzvu",
        "outputId": "ab70dca8-d34b-470f-8267-a795297d4f45"
      },
      "execution_count": null,
      "outputs": [
        {
          "output_type": "stream",
          "name": "stdout",
          "text": [
            "tails\n"
          ]
        }
      ]
    },
    {
      "cell_type": "code",
      "source": [
        "# Two heads in a row\n",
        "\n",
        "if np.random.rand() < 0.25 :\n",
        "  print('You win!') \n",
        "else:\n",
        "  print('You lose!')"
      ],
      "metadata": {
        "colab": {
          "base_uri": "https://localhost:8080/"
        },
        "id": "36VafgBs18QU",
        "outputId": "0bb649e6-bb81-4e8f-b098-e5576ae7693a"
      },
      "execution_count": null,
      "outputs": [
        {
          "output_type": "stream",
          "name": "stdout",
          "text": [
            "You lose!\n"
          ]
        }
      ]
    },
    {
      "cell_type": "code",
      "source": [
        "# Two heads in a row\n",
        "\n",
        "#Primer lanzamiento\n",
        "ft = np.random.rand()\n",
        "if ft < 0.5 :\n",
        "  print('The first toss was head') \n",
        "else:\n",
        "  print('The first toss was tails')\n",
        "\n",
        "#Segundo lanzamiento\n",
        "st = np.random.rand()\n",
        "if st < 0.5 :\n",
        "  print('The second toss was head') \n",
        "else:\n",
        "  print('The second toss was tails')\n",
        "\n",
        "#Si el primer lanzamiento es igual al segundo ganas, si no pierdes\n",
        "if ft < 0.5 and st < 0.5:\n",
        "  print('You win!')\n",
        "else:\n",
        "  print('You lose!')"
      ],
      "metadata": {
        "colab": {
          "base_uri": "https://localhost:8080/"
        },
        "id": "wlLdSGuc48ie",
        "outputId": "acc6cba7-730f-4179-87af-6a35c369e32d"
      },
      "execution_count": null,
      "outputs": [
        {
          "output_type": "stream",
          "name": "stdout",
          "text": [
            "The first toss was head\n",
            "The second toss was head\n",
            "You win!\n"
          ]
        }
      ]
    },
    {
      "cell_type": "code",
      "source": [
        "#One dimensional array\n",
        "#Cantidad de numeros aleatorios (en este caso 5 numeros aleatorios entre 0 y 1)\n",
        "np.random.rand(5)"
      ],
      "metadata": {
        "colab": {
          "base_uri": "https://localhost:8080/"
        },
        "id": "e--HB1uiuWxV",
        "outputId": "5b308218-5351-4f6d-83c8-6ddac75c5b7f"
      },
      "execution_count": 3,
      "outputs": [
        {
          "output_type": "execute_result",
          "data": {
            "text/plain": [
              "array([0.69180865, 0.62737885, 0.37485132, 0.49589886, 0.89668444])"
            ]
          },
          "metadata": {},
          "execution_count": 3
        }
      ]
    },
    {
      "cell_type": "code",
      "source": [
        "#Matrix\n",
        "#El primero numero que se pone son las filas \n",
        "np.random.rand(6,2)"
      ],
      "metadata": {
        "colab": {
          "base_uri": "https://localhost:8080/"
        },
        "id": "rTHWM42VusMM",
        "outputId": "bbf1334b-93a2-4345-e4be-3553d19d6f3e"
      },
      "execution_count": 4,
      "outputs": [
        {
          "output_type": "execute_result",
          "data": {
            "text/plain": [
              "array([[0.67125151, 0.2840867 ],\n",
              "       [0.95596937, 0.83255601],\n",
              "       [0.41735534, 0.34356213],\n",
              "       [0.673656  , 0.68131974],\n",
              "       [0.49789248, 0.84431105],\n",
              "       [0.69544132, 0.74872951]])"
            ]
          },
          "metadata": {},
          "execution_count": 4
        }
      ]
    },
    {
      "cell_type": "markdown",
      "source": [
        "### Uniform distibution in the interval [a,b)"
      ],
      "metadata": {
        "id": "Ipiqvq2cvM6b"
      }
    },
    {
      "cell_type": "code",
      "source": [
        "# Single value\n",
        "#Numero aleatorio entre -10 y 0\n",
        "np.random.uniform(low = -10, high = 0)"
      ],
      "metadata": {
        "colab": {
          "base_uri": "https://localhost:8080/"
        },
        "id": "-8M_jtBHvSdb",
        "outputId": "0b0df2e9-a9e4-4a02-d37c-16e001217fea"
      },
      "execution_count": 8,
      "outputs": [
        {
          "output_type": "execute_result",
          "data": {
            "text/plain": [
              "-2.227812711243553"
            ]
          },
          "metadata": {},
          "execution_count": 8
        }
      ]
    },
    {
      "cell_type": "code",
      "source": [
        "#One dimensional array\n",
        "#Numero aleatorio entre -10 y 0 (solo 7 numeros)\n",
        "np.random.uniform(low = -10, high = 0, size = 7 )"
      ],
      "metadata": {
        "colab": {
          "base_uri": "https://localhost:8080/"
        },
        "id": "0rvICtM1v0_C",
        "outputId": "05d6f5bd-2c5a-48ec-96d1-df519056ceb1"
      },
      "execution_count": 9,
      "outputs": [
        {
          "output_type": "execute_result",
          "data": {
            "text/plain": [
              "array([-3.05217776, -9.45955809, -1.56071925, -2.17164825, -7.13135464,\n",
              "       -7.01506022, -1.04377108])"
            ]
          },
          "metadata": {},
          "execution_count": 9
        }
      ]
    },
    {
      "cell_type": "code",
      "source": [
        "#Matix\n",
        "#Numero aleatorio entre -10 y 0 (5 es el numero de la fila - se debe poner primero) , (1 columna)\n",
        "np.random.uniform(low = -10, high = 0, size = (5,1))"
      ],
      "metadata": {
        "colab": {
          "base_uri": "https://localhost:8080/"
        },
        "id": "GXJ8q9sDwJky",
        "outputId": "a1567e09-0b50-4109-c897-efdcd70232c9"
      },
      "execution_count": 10,
      "outputs": [
        {
          "output_type": "execute_result",
          "data": {
            "text/plain": [
              "array([[-2.50597567],\n",
              "       [-8.73292515],\n",
              "       [-4.10932542],\n",
              "       [-9.35337398],\n",
              "       [-4.1755542 ]])"
            ]
          },
          "metadata": {},
          "execution_count": 10
        }
      ]
    },
    {
      "cell_type": "markdown",
      "source": [
        "**Exercise**\n",
        "Simulate the sale of a shop according to \n",
        "\n",
        "| Scenario | Prob | Sales |\n",
        "|----------|------|-------|\n",
        "|Bad       | 25%  |  60   |\n",
        "|Normal    | 50%  |  80   |\n",
        "|Wow       | 25%  |  100  |\n",
        "\n",
        "For 5 days."
      ],
      "metadata": {
        "id": "XBQRdAuU0en8"
      }
    },
    {
      "cell_type": "code",
      "source": [
        "#A Solution \n",
        "#Ejercicio se basa en prediciones de ventas para 5 dias \n",
        "\n",
        "for i in range(1,6):\n",
        "  tmp = np.random.rand()\n",
        "  if tmp <0.25:\n",
        "    print('Day',i, 'Scenario: Bad -','Units sold:60')\n",
        "  elif tmp>0.75:\n",
        "    print('Day',i,'Scenario: Wow - ','Units sold:100')\n",
        "  else:\n",
        "    print('Day',i,'Scenario: Normal - ','Units sold:80')"
      ],
      "metadata": {
        "colab": {
          "base_uri": "https://localhost:8080/"
        },
        "id": "-ut3cd061I8_",
        "outputId": "8d073aa3-14aa-4e6d-9c5a-88d8c5c91460"
      },
      "execution_count": 43,
      "outputs": [
        {
          "output_type": "stream",
          "name": "stdout",
          "text": [
            "Day 1 Scenario: Wow -  Units sold:100\n",
            "Day 2 Scenario: Bad - Units sold:60\n",
            "Day 3 Scenario: Bad - Units sold:60\n",
            "Day 4 Scenario: Bad - Units sold:60\n",
            "Day 5 Scenario: Normal -  Units sold:80\n"
          ]
        }
      ]
    }
  ]
}