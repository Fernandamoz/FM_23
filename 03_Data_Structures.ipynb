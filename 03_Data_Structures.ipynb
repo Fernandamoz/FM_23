{
  "nbformat": 4,
  "nbformat_minor": 0,
  "metadata": {
    "colab": {
      "provenance": [],
      "authorship_tag": "ABX9TyOsfDCqlMUBvw1h5/edLk96",
      "include_colab_link": true
    },
    "kernelspec": {
      "name": "python3",
      "display_name": "Python 3"
    },
    "language_info": {
      "name": "python"
    }
  },
  "cells": [
    {
      "cell_type": "markdown",
      "metadata": {
        "id": "view-in-github",
        "colab_type": "text"
      },
      "source": [
        "<a href=\"https://colab.research.google.com/github/mariafernandamr/MariaFernanda-DataVisualization2023/blob/main/03_Data_Structures.ipynb\" target=\"_parent\"><img src=\"https://colab.research.google.com/assets/colab-badge.svg\" alt=\"Open In Colab\"/></a>"
      ]
    },
    {
      "cell_type": "markdown",
      "source": [
        "# **1. What is a DS?**\n",
        "\n",
        "A DS is an object that let us store more than one value.\n",
        "\n",
        "Formally, a DS i s a **Sequence** of values which can be located with an index."
      ],
      "metadata": {
        "id": "mQZPvCqpua7S"
      }
    },
    {
      "cell_type": "markdown",
      "source": [
        "# **2. Linear Algebra**"
      ],
      "metadata": {
        "id": "XS3MAclHwY9b"
      }
    },
    {
      "cell_type": "markdown",
      "source": [
        "## 2.1. What is Numpy?\n",
        "\n",
        "Numpy (Numerical Python) is a collection of functions and method."
      ],
      "metadata": {
        "id": "pukMH0gjw_eX"
      }
    },
    {
      "cell_type": "code",
      "source": [
        "# Install the libabry\n",
        "\n",
        "import numpy as np "
      ],
      "metadata": {
        "id": "qT1Yxgb6xtoa"
      },
      "execution_count": null,
      "outputs": []
    },
    {
      "cell_type": "markdown",
      "source": [
        "# **2.2 Numpy arrays - vectors and matrices**\n",
        "\n",
        "Vector solo tiene fila - \n",
        "Matriz tiene fila y columnas\n"
      ],
      "metadata": {
        "id": "pKAGTQkOyi_j"
      }
    },
    {
      "cell_type": "markdown",
      "source": [
        "*Example 1 - Columna vector*\n",
        "\n"
      ],
      "metadata": {
        "id": "_kL43696y_VT"
      }
    },
    {
      "cell_type": "code",
      "source": [
        "a = np.array([[1],[2],[3]])\n",
        "print(a)"
      ],
      "metadata": {
        "colab": {
          "base_uri": "https://localhost:8080/"
        },
        "id": "CtnAatsCzwAz",
        "outputId": "0fee3d55-8c41-4d2e-8944-c1e331b2df50"
      },
      "execution_count": 3,
      "outputs": [
        {
          "output_type": "stream",
          "name": "stdout",
          "text": [
            "[[1]\n",
            " [2]\n",
            " [3]]\n"
          ]
        }
      ]
    }
  ]
}