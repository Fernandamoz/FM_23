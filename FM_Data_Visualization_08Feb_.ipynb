{
  "nbformat": 4,
  "nbformat_minor": 0,
  "metadata": {
    "colab": {
      "provenance": [],
      "authorship_tag": "ABX9TyNGUg8rR8NfFYwZGoTgoJAh",
      "include_colab_link": true
    },
    "kernelspec": {
      "name": "python3",
      "display_name": "Python 3"
    },
    "language_info": {
      "name": "python"
    }
  },
  "cells": [
    {
      "cell_type": "markdown",
      "metadata": {
        "id": "view-in-github",
        "colab_type": "text"
      },
      "source": [
        "<a href=\"https://colab.research.google.com/github/Fernandamoz/FM_23/blob/main/FM_Data_Visualization_08Feb_.ipynb\" target=\"_parent\"><img src=\"https://colab.research.google.com/assets/colab-badge.svg\" alt=\"Open In Colab\"/></a>"
      ]
    },
    {
      "cell_type": "markdown",
      "source": [
        "#Title \n",
        "##Subtitle\n",
        "###Subsubtitle\n"
      ],
      "metadata": {
        "id": "mSH2HLAKdnLV"
      }
    },
    {
      "cell_type": "markdown",
      "source": [
        "#Subsection 1"
      ],
      "metadata": {
        "id": "H2xx9xe1eoIx"
      }
    },
    {
      "cell_type": "markdown",
      "source": [
        "#Bold\n",
        "\n",
        "thong **\n",
        "\n",
        "**Fernanda**\n",
        "\n",
        "# italic\n",
        "\n",
        "*Fernanda* = Fernanda\n",
        "\n",
        "#Bold\n",
        "**Maria Fernanda Mozo Rodriguez**\n",
        "\n",
        "**Maria Fernanda**\n",
        "\n",
        "# italic\n",
        "*Mozo*\n",
        "\n",
        "***Rodriguez***\n",
        "\n",
        "\n",
        "\n",
        "#Unordered List\n",
        "**Best Singers**\n",
        "\n",
        "1. Justin Bieber\n",
        "2. Maluma\n",
        "3. Adele\n",
        "\n",
        "\n",
        "\n",
        "\n",
        "\n",
        "\n",
        "\n",
        "\n"
      ],
      "metadata": {
        "id": "T52cOHd3e1nN"
      }
    },
    {
      "cell_type": "markdown",
      "source": [
        "# Nested list\n",
        "\n",
        "**To-Do list:**\n",
        "1. Training \n",
        "\n",
        "  1.1. Wake-up early\n",
        "\n",
        "  1.2. Run 10 kms \n",
        "\n",
        "2. Rest\n",
        "\n",
        "  2.1. Sleep"
      ],
      "metadata": {
        "id": "i0k8o7cPkXqO"
      }
    },
    {
      "cell_type": "markdown",
      "source": [
        "#Nested List \n",
        "\n",
        "1. **Morning**\n",
        "\n",
        "  1.1. Wake-up early\n",
        "\n",
        "  1.2. Take a shower\n",
        "  \n",
        "  1.3. Eat Breaskfast\n",
        "\n",
        "  1.4. Feed my pets\n",
        "\n",
        "  1.5. Class\n",
        "\n",
        "2. **Afternoon**\n",
        "\n",
        "  2.1 Make my lunch\n",
        "\n",
        "  2.2 Work\n",
        "\n",
        "  2.3 Listen music\n",
        "\n",
        "3. **Night**\n",
        "\n",
        "  3.1. Skincare\n",
        "\n",
        "  3.2 Dinnner\n",
        "\n",
        "  3.3 Drink a tea \n",
        "\n",
        "  3.4 Sleep \n"
      ],
      "metadata": {
        "id": "yu8PmWwXlerQ"
      }
    },
    {
      "cell_type": "markdown",
      "source": [],
      "metadata": {
        "id": "0f5GOBBxoKB9"
      }
    },
    {
      "cell_type": "code",
      "execution_count": null,
      "metadata": {
        "id": "DimNhc2JmLkN"
      },
      "outputs": [],
      "source": []
    }
  ]
}