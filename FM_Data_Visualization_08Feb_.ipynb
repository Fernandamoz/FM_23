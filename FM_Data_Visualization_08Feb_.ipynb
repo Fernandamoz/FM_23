{
  "nbformat": 4,
  "nbformat_minor": 0,
  "metadata": {
    "colab": {
      "provenance": [],
      "authorship_tag": "ABX9TyOXw+QqVDAMu7doUj42XJKX",
      "include_colab_link": true
    },
    "kernelspec": {
      "name": "python3",
      "display_name": "Python 3"
    },
    "language_info": {
      "name": "python"
    }
  },
  "cells": [
    {
      "cell_type": "markdown",
      "metadata": {
        "id": "view-in-github",
        "colab_type": "text"
      },
      "source": [
        "<a href=\"https://colab.research.google.com/github/Fernandamoz/FM_23/blob/main/FM_Data_Visualization_08Feb_.ipynb\" target=\"_parent\"><img src=\"https://colab.research.google.com/assets/colab-badge.svg\" alt=\"Open In Colab\"/></a>"
      ]
    },
    {
      "cell_type": "markdown",
      "source": [
        "#Title \n",
        "##Subtitle\n",
        "###Subsubtitle\n"
      ],
      "metadata": {
        "id": "mSH2HLAKdnLV"
      }
    },
    {
      "cell_type": "markdown",
      "source": [
        "#Subsection 1"
      ],
      "metadata": {
        "id": "H2xx9xe1eoIx"
      }
    },
    {
      "cell_type": "markdown",
      "source": [
        "#Bold\n",
        "\n",
        "thong **\n",
        "\n",
        "**Fernanda**\n",
        "\n",
        "# italic\n",
        "\n",
        "*Fernanda* = Fernanda\n",
        "\n",
        "#Bold\n",
        "**Maria Fernanda Mozo Rodriguez**\n",
        "\n",
        "**Maria Fernanda**\n",
        "\n",
        "# italic\n",
        "*Mozo*\n",
        "\n",
        "***Rodriguez***\n",
        "\n",
        "\n",
        "\n",
        "\n",
        "\n",
        "\n",
        "\n"
      ],
      "metadata": {
        "id": "T52cOHd3e1nN"
      }
    },
    {
      "cell_type": "code",
      "execution_count": null,
      "metadata": {
        "id": "DimNhc2JmLkN"
      },
      "outputs": [],
      "source": []
    }
  ]
}