{
  "nbformat": 4,
  "nbformat_minor": 0,
  "metadata": {
    "colab": {
      "provenance": [],
      "authorship_tag": "ABX9TyPiB0ZYxnbJ+DTSsKR25/YT",
      "include_colab_link": true
    },
    "kernelspec": {
      "name": "python3",
      "display_name": "Python 3"
    },
    "language_info": {
      "name": "python"
    }
  },
  "cells": [
    {
      "cell_type": "markdown",
      "metadata": {
        "id": "view-in-github",
        "colab_type": "text"
      },
      "source": [
        "<a href=\"https://colab.research.google.com/github/mariafernandamr/MariaFernanda-DataVisualization2023/blob/main/Turismo_internacional.ipynb\" target=\"_parent\"><img src=\"https://colab.research.google.com/assets/colab-badge.svg\" alt=\"Open In Colab\"/></a>"
      ]
    },
    {
      "cell_type": "code",
      "source": [
        "# Libraries\n",
        "\n",
        "import numpy as np\n",
        "import pandas as pd"
      ],
      "metadata": {
        "id": "d-BYvVhALcFX"
      },
      "execution_count": 7,
      "outputs": []
    },
    {
      "cell_type": "code",
      "source": [
        "# Save the path o the file \n",
        "t = '/content/Turismo internacional.xlsx'\n",
        "\n",
        "# Read the file\n",
        "d = pd.read_excel(t)\n",
        "\n",
        "# Check\n",
        "d.info()"
      ],
      "metadata": {
        "colab": {
          "base_uri": "https://localhost:8080/"
        },
        "id": "RDXYs074LcXV",
        "outputId": "9a4cfc7b-41d9-4ac9-fa53-8b523f80c574"
      },
      "execution_count": 8,
      "outputs": [
        {
          "output_type": "stream",
          "name": "stdout",
          "text": [
            "<class 'pandas.core.frame.DataFrame'>\n",
            "RangeIndex: 44 entries, 0 to 43\n",
            "Data columns (total 6 columns):\n",
            " #   Column                    Non-Null Count  Dtype  \n",
            "---  ------                    --------------  -----  \n",
            " 0   No.                       43 non-null     float64\n",
            " 1   País                      43 non-null     object \n",
            " 2   Turistas M                43 non-null     float64\n",
            " 3   Ingresos MM               43 non-null     float64\n",
            " 4   Ingresos por turista EUR  43 non-null     float64\n",
            " 5   Porcentaje PIB            43 non-null     float64\n",
            "dtypes: float64(5), object(1)\n",
            "memory usage: 2.2+ KB\n"
          ]
        }
      ]
    }
  ]
}