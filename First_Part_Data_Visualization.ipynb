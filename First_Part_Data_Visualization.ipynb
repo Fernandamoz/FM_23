{
  "nbformat": 4,
  "nbformat_minor": 0,
  "metadata": {
    "colab": {
      "provenance": [],
      "authorship_tag": "ABX9TyNfslVQ5PifHmBiG8+sDEso",
      "include_colab_link": true
    },
    "kernelspec": {
      "name": "python3",
      "display_name": "Python 3"
    },
    "language_info": {
      "name": "python"
    }
  },
  "cells": [
    {
      "cell_type": "markdown",
      "metadata": {
        "id": "view-in-github",
        "colab_type": "text"
      },
      "source": [
        "<a href=\"https://colab.research.google.com/github/mariafernandamr/MariaFernanda-DataVisualization2023/blob/main/First_Part_Data_Visualization.ipynb\" target=\"_parent\"><img src=\"https://colab.research.google.com/assets/colab-badge.svg\" alt=\"Open In Colab\"/></a>"
      ]
    },
    {
      "cell_type": "code",
      "execution_count": null,
      "metadata": {
        "id": "lZGZ0oyXJ045"
      },
      "outputs": [],
      "source": []
    },
    {
      "cell_type": "markdown",
      "source": [
        "# Variable"
      ],
      "metadata": {
        "id": "hA4ux71bJ-PS"
      }
    },
    {
      "cell_type": "markdown",
      "source": [
        "**1.1 Name and description** \n",
        "\n",
        "- International tourism: The most popular countries to travel"
      ],
      "metadata": {
        "id": "Up3oYHMOKMlJ"
      }
    },
    {
      "cell_type": "markdown",
      "source": [
        "\n",
        "**1.2 Name and description** \n",
        "\n",
        "Period or dates. Frequency. Individuals.\n",
        "\n",
        "- Year 2019 to year 2023"
      ],
      "metadata": {
        "id": "57E1DXFpLOOi"
      }
    },
    {
      "cell_type": "markdown",
      "source": [
        "**1.3. Sources**\n",
        "- [The most popular countries to travel](https://www.datosmundial.com/turismo.php)"
      ],
      "metadata": {
        "id": "us3NAmJqLzpJ"
      }
    },
    {
      "cell_type": "markdown",
      "source": [
        "# Goal of the DV"
      ],
      "metadata": {
        "id": "AQAstyKiMGgV"
      }
    },
    {
      "cell_type": "markdown",
      "source": [
        "**2.1. Story**\n",
        "\n",
        "It is based on the analysis of the 5 most popular countries to travel to. Both the number of tourists and the income are applied to international trips, that is, they do not include domestic travelers. A tourist is any foreign guest who spends at least one night in the country.\n",
        "\n",
        "Massive travel restrictions were imposed in almost all countries, leading to high revenue losses and a significant drop in international tourist numbers.\n",
        "\n",
        "Tourism is very limited in large parts of Africa. South America is interesting and draws the attention of foreigners because of the type of culture. On the other hand, many European countries are visited quite frequently by foreigners, which is mainly due to their geographical proximity to other countries. The lower the travel costs, the more attractive the destinations become, especially for the surrounding industrial nations."
      ],
      "metadata": {
        "id": "VWtI2WK9MUNP"
      }
    },
    {
      "cell_type": "markdown",
      "source": [
        "**2.2. Audience**\n",
        "\n",
        "The five most visited countries in the period from 2019 to 2023: \n",
        "\n",
        "- France\n",
        "- Mexico\n",
        "- USA\n",
        "- Italy\n",
        "- Hungary"
      ],
      "metadata": {
        "id": "uiFFZpQDOXOF"
      }
    },
    {
      "cell_type": "markdown",
      "source": [
        "**2.3. Justify the DV type**"
      ],
      "metadata": {
        "id": "QelNtWCePOoC"
      }
    }
  ]
}