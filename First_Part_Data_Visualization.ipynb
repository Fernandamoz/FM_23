{
  "nbformat": 4,
  "nbformat_minor": 0,
  "metadata": {
    "colab": {
      "provenance": [],
      "authorship_tag": "ABX9TyO6UjX1B9Twzvd+5h0PVwMh",
      "include_colab_link": true
    },
    "kernelspec": {
      "name": "python3",
      "display_name": "Python 3"
    },
    "language_info": {
      "name": "python"
    }
  },
  "cells": [
    {
      "cell_type": "markdown",
      "metadata": {
        "id": "view-in-github",
        "colab_type": "text"
      },
      "source": [
        "<a href=\"https://colab.research.google.com/github/mariafernandamr/MariaFernanda-DataVisualization-2023-1/blob/main/First_Part_Data_Visualization.ipynb\" target=\"_parent\"><img src=\"https://colab.research.google.com/assets/colab-badge.svg\" alt=\"Open In Colab\"/></a>"
      ]
    },
    {
      "cell_type": "markdown",
      "source": [
        "# Variable"
      ],
      "metadata": {
        "id": "hA4ux71bJ-PS"
      }
    },
    {
      "cell_type": "markdown",
      "source": [
        "**1.1 Name and description**\n",
        "\n",
        "- International tourism: The most popular countries to travel"
      ],
      "metadata": {
        "id": "Up3oYHMOKMlJ"
      }
    },
    {
      "cell_type": "markdown",
      "source": [
        "\n",
        "**1.2 Period and dates**\n",
        "\n",
        "Period between the year 2019 to year 2023.\n",
        "\n",
        "The five most visited countries in this period :\n",
        "\n",
        "- France\n",
        "- Mexico\n",
        "- USA\n",
        "- Italy\n",
        "- Hungary\n",
        "\n",
        "The reason why the first five countries were used is to have a more micro vision of the favorite countries to travel to, in addition to that they have positioned themselves as the most visited countries during the last five years."
      ],
      "metadata": {
        "id": "57E1DXFpLOOi"
      }
    },
    {
      "cell_type": "markdown",
      "source": [
        "**1.3. Sources**\n",
        "- [The most popular countries to travel](https://www.datosmundial.com/turismo.php)"
      ],
      "metadata": {
        "id": "us3NAmJqLzpJ"
      }
    },
    {
      "cell_type": "markdown",
      "source": [
        "# Goal of the DV"
      ],
      "metadata": {
        "id": "AQAstyKiMGgV"
      }
    },
    {
      "cell_type": "markdown",
      "source": [
        "**2.1. Story**\n",
        "\n",
        "A tourist is any foreign guest who spends at least one night in the country.\n",
        "\n",
        "Both the number of tourists and the income are applied to international trips, that is, they do not include domestic travelers.\n",
        "\n",
        "Massive travel restrictions were imposed in almost every country in the pandemic, leading to huge revenue losses and a significant drop in the number of international tourists.\n",
        "\n",
        "Tourism is very limited in much of Africa. South America is interesting and draws the attention of foreigners because of the type of culture.\n",
        "On the other hand, many European countries are visited quite frequently by foreigners due to their proximity and low cost."
      ],
      "metadata": {
        "id": "VWtI2WK9MUNP"
      }
    },
    {
      "cell_type": "markdown",
      "source": [
        "**2.2. Audience**\n",
        "\n",
        "It is suggested for all kinds of people, the impulse to travel is typical of the nature of the human being because it offers him the opportunity to know what, in his most daily reality, he cannot experience.\n",
        "\n",
        "\n",
        "Anyone who wants and has the money to do it.\n"
      ],
      "metadata": {
        "id": "uiFFZpQDOXOF"
      }
    },
    {
      "cell_type": "markdown",
      "source": [
        "**2.3. Justify the DV type**\n",
        "\n",
        "List where variables such as Tourists (millions), Income (billions), Percentague PIB and income per tourist can be noted.\n",
        "\n",
        "![image.png](data:image/png;base64,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)\n"
      ],
      "metadata": {
        "id": "QelNtWCePOoC"
      }
    }
  ]
}