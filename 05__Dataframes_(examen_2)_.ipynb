{
  "nbformat": 4,
  "nbformat_minor": 0,
  "metadata": {
    "colab": {
      "provenance": [],
      "authorship_tag": "ABX9TyPFS++r8mZjCjczpUII6R1+",
      "include_colab_link": true
    },
    "kernelspec": {
      "name": "python3",
      "display_name": "Python 3"
    },
    "language_info": {
      "name": "python"
    }
  },
  "cells": [
    {
      "cell_type": "markdown",
      "metadata": {
        "id": "view-in-github",
        "colab_type": "text"
      },
      "source": [
        "<a href=\"https://colab.research.google.com/github/mariafernandamr/MariaFernanda-DataVisualization2023/blob/main/05__Dataframes_(examen_2)_.ipynb\" target=\"_parent\"><img src=\"https://colab.research.google.com/assets/colab-badge.svg\" alt=\"Open In Colab\"/></a>"
      ]
    },
    {
      "cell_type": "markdown",
      "source": [
        "# **1. Intro**\n",
        "\n",
        "Database with gdp per capita and life expectancy from world bank, for America countries 2046-2020.\n"
      ],
      "metadata": {
        "id": "0XiEr37u-AqB"
      }
    },
    {
      "cell_type": "code",
      "source": [
        "# Libraries\n",
        "\n",
        "import numpy as np\n",
        "import pandas as pd\n",
        "import plotly.express as px "
      ],
      "metadata": {
        "id": "XJHBTJdd-d9B"
      },
      "execution_count": 2,
      "outputs": []
    },
    {
      "cell_type": "markdown",
      "source": [
        "# **2. Import**\n",
        "\n"
      ],
      "metadata": {
        "id": "1PvMt-aS-ZGS"
      }
    },
    {
      "cell_type": "code",
      "source": [
        "# Save the path \n",
        "p = '/content/Turismo internacional (1).xlsx'\n",
        "\n",
        "#Read the file\n",
        "d = pd.read_excel (p)\n",
        "\n",
        "#Check\n",
        "d.info()"
      ],
      "metadata": {
        "colab": {
          "base_uri": "https://localhost:8080/"
        },
        "id": "G58HLO_r-sD6",
        "outputId": "2db748cd-a60d-40f7-ac67-5723ce961022"
      },
      "execution_count": 8,
      "outputs": [
        {
          "output_type": "stream",
          "name": "stdout",
          "text": [
            "<class 'pandas.core.frame.DataFrame'>\n",
            "RangeIndex: 43 entries, 0 to 42\n",
            "Data columns (total 6 columns):\n",
            " #   Column                    Non-Null Count  Dtype  \n",
            "---  ------                    --------------  -----  \n",
            " 0   No.                       43 non-null     int64  \n",
            " 1   País                      43 non-null     object \n",
            " 2   Turistas M                43 non-null     float64\n",
            " 3   Ingresos MM               43 non-null     float64\n",
            " 4   Ingresos por turista EUR  43 non-null     int64  \n",
            " 5   Porcentaje PIB            43 non-null     float64\n",
            "dtypes: float64(3), int64(2), object(1)\n",
            "memory usage: 2.1+ KB\n"
          ]
        }
      ]
    },
    {
      "cell_type": "code",
      "source": [
        "# Check (The first entries)\n",
        "d.head()"
      ],
      "metadata": {
        "colab": {
          "base_uri": "https://localhost:8080/",
          "height": 206
        },
        "id": "QNocHOfHAvD6",
        "outputId": "602c10a4-c88f-4290-c483-c81d9a374786"
      },
      "execution_count": 13,
      "outputs": [
        {
          "output_type": "execute_result",
          "data": {
            "text/plain": [
              "   No.      País  Turistas M  Ingresos MM  Ingresos por turista EUR  \\\n",
              "0     1  Francia       117.1        31.48                       269   \n",
              "1     2   México        51.1        10.02                       196   \n",
              "2     3   EE.UU.        45.0        73.72                      1637   \n",
              "3     4   Italia        38.4        17.91                       466   \n",
              "4     5  Hungría        31.6         3.70                       117   \n",
              "\n",
              "   Porcentaje PIB  \n",
              "0           0.012  \n",
              "1           0.009  \n",
              "2           0.004  \n",
              "3           0.010  \n",
              "4           0.023  "
            ],
            "text/html": [
              "\n",
              "  <div id=\"df-c709b7d9-792b-4e57-a62c-4a61fd7c7b8c\">\n",
              "    <div class=\"colab-df-container\">\n",
              "      <div>\n",
              "<style scoped>\n",
              "    .dataframe tbody tr th:only-of-type {\n",
              "        vertical-align: middle;\n",
              "    }\n",
              "\n",
              "    .dataframe tbody tr th {\n",
              "        vertical-align: top;\n",
              "    }\n",
              "\n",
              "    .dataframe thead th {\n",
              "        text-align: right;\n",
              "    }\n",
              "</style>\n",
              "<table border=\"1\" class=\"dataframe\">\n",
              "  <thead>\n",
              "    <tr style=\"text-align: right;\">\n",
              "      <th></th>\n",
              "      <th>No.</th>\n",
              "      <th>País</th>\n",
              "      <th>Turistas M</th>\n",
              "      <th>Ingresos MM</th>\n",
              "      <th>Ingresos por turista EUR</th>\n",
              "      <th>Porcentaje PIB</th>\n",
              "    </tr>\n",
              "  </thead>\n",
              "  <tbody>\n",
              "    <tr>\n",
              "      <th>0</th>\n",
              "      <td>1</td>\n",
              "      <td>Francia</td>\n",
              "      <td>117.1</td>\n",
              "      <td>31.48</td>\n",
              "      <td>269</td>\n",
              "      <td>0.012</td>\n",
              "    </tr>\n",
              "    <tr>\n",
              "      <th>1</th>\n",
              "      <td>2</td>\n",
              "      <td>México</td>\n",
              "      <td>51.1</td>\n",
              "      <td>10.02</td>\n",
              "      <td>196</td>\n",
              "      <td>0.009</td>\n",
              "    </tr>\n",
              "    <tr>\n",
              "      <th>2</th>\n",
              "      <td>3</td>\n",
              "      <td>EE.UU.</td>\n",
              "      <td>45.0</td>\n",
              "      <td>73.72</td>\n",
              "      <td>1637</td>\n",
              "      <td>0.004</td>\n",
              "    </tr>\n",
              "    <tr>\n",
              "      <th>3</th>\n",
              "      <td>4</td>\n",
              "      <td>Italia</td>\n",
              "      <td>38.4</td>\n",
              "      <td>17.91</td>\n",
              "      <td>466</td>\n",
              "      <td>0.010</td>\n",
              "    </tr>\n",
              "    <tr>\n",
              "      <th>4</th>\n",
              "      <td>5</td>\n",
              "      <td>Hungría</td>\n",
              "      <td>31.6</td>\n",
              "      <td>3.70</td>\n",
              "      <td>117</td>\n",
              "      <td>0.023</td>\n",
              "    </tr>\n",
              "  </tbody>\n",
              "</table>\n",
              "</div>\n",
              "      <button class=\"colab-df-convert\" onclick=\"convertToInteractive('df-c709b7d9-792b-4e57-a62c-4a61fd7c7b8c')\"\n",
              "              title=\"Convert this dataframe to an interactive table.\"\n",
              "              style=\"display:none;\">\n",
              "        \n",
              "  <svg xmlns=\"http://www.w3.org/2000/svg\" height=\"24px\"viewBox=\"0 0 24 24\"\n",
              "       width=\"24px\">\n",
              "    <path d=\"M0 0h24v24H0V0z\" fill=\"none\"/>\n",
              "    <path d=\"M18.56 5.44l.94 2.06.94-2.06 2.06-.94-2.06-.94-.94-2.06-.94 2.06-2.06.94zm-11 1L8.5 8.5l.94-2.06 2.06-.94-2.06-.94L8.5 2.5l-.94 2.06-2.06.94zm10 10l.94 2.06.94-2.06 2.06-.94-2.06-.94-.94-2.06-.94 2.06-2.06.94z\"/><path d=\"M17.41 7.96l-1.37-1.37c-.4-.4-.92-.59-1.43-.59-.52 0-1.04.2-1.43.59L10.3 9.45l-7.72 7.72c-.78.78-.78 2.05 0 2.83L4 21.41c.39.39.9.59 1.41.59.51 0 1.02-.2 1.41-.59l7.78-7.78 2.81-2.81c.8-.78.8-2.07 0-2.86zM5.41 20L4 18.59l7.72-7.72 1.47 1.35L5.41 20z\"/>\n",
              "  </svg>\n",
              "      </button>\n",
              "      \n",
              "  <style>\n",
              "    .colab-df-container {\n",
              "      display:flex;\n",
              "      flex-wrap:wrap;\n",
              "      gap: 12px;\n",
              "    }\n",
              "\n",
              "    .colab-df-convert {\n",
              "      background-color: #E8F0FE;\n",
              "      border: none;\n",
              "      border-radius: 50%;\n",
              "      cursor: pointer;\n",
              "      display: none;\n",
              "      fill: #1967D2;\n",
              "      height: 32px;\n",
              "      padding: 0 0 0 0;\n",
              "      width: 32px;\n",
              "    }\n",
              "\n",
              "    .colab-df-convert:hover {\n",
              "      background-color: #E2EBFA;\n",
              "      box-shadow: 0px 1px 2px rgba(60, 64, 67, 0.3), 0px 1px 3px 1px rgba(60, 64, 67, 0.15);\n",
              "      fill: #174EA6;\n",
              "    }\n",
              "\n",
              "    [theme=dark] .colab-df-convert {\n",
              "      background-color: #3B4455;\n",
              "      fill: #D2E3FC;\n",
              "    }\n",
              "\n",
              "    [theme=dark] .colab-df-convert:hover {\n",
              "      background-color: #434B5C;\n",
              "      box-shadow: 0px 1px 3px 1px rgba(0, 0, 0, 0.15);\n",
              "      filter: drop-shadow(0px 1px 2px rgba(0, 0, 0, 0.3));\n",
              "      fill: #FFFFFF;\n",
              "    }\n",
              "  </style>\n",
              "\n",
              "      <script>\n",
              "        const buttonEl =\n",
              "          document.querySelector('#df-c709b7d9-792b-4e57-a62c-4a61fd7c7b8c button.colab-df-convert');\n",
              "        buttonEl.style.display =\n",
              "          google.colab.kernel.accessAllowed ? 'block' : 'none';\n",
              "\n",
              "        async function convertToInteractive(key) {\n",
              "          const element = document.querySelector('#df-c709b7d9-792b-4e57-a62c-4a61fd7c7b8c');\n",
              "          const dataTable =\n",
              "            await google.colab.kernel.invokeFunction('convertToInteractive',\n",
              "                                                     [key], {});\n",
              "          if (!dataTable) return;\n",
              "\n",
              "          const docLinkHtml = 'Like what you see? Visit the ' +\n",
              "            '<a target=\"_blank\" href=https://colab.research.google.com/notebooks/data_table.ipynb>data table notebook</a>'\n",
              "            + ' to learn more about interactive tables.';\n",
              "          element.innerHTML = '';\n",
              "          dataTable['output_type'] = 'display_data';\n",
              "          await google.colab.output.renderOutput(dataTable, element);\n",
              "          const docLink = document.createElement('div');\n",
              "          docLink.innerHTML = docLinkHtml;\n",
              "          element.appendChild(docLink);\n",
              "        }\n",
              "      </script>\n",
              "    </div>\n",
              "  </div>\n",
              "  "
            ]
          },
          "metadata": {},
          "execution_count": 13
        }
      ]
    },
    {
      "cell_type": "code",
      "source": [
        "# Check (The last entries)\n",
        "d.tail()"
      ],
      "metadata": {
        "colab": {
          "base_uri": "https://localhost:8080/",
          "height": 206
        },
        "id": "my9WXNGOA5Pq",
        "outputId": "4ac270ce-e192-4f15-bd51-5985581efc3d"
      },
      "execution_count": 24,
      "outputs": [
        {
          "output_type": "execute_result",
          "data": {
            "text/plain": [
              "    No.      Country  Tourist M  Income  Income per tourist EUR  \\\n",
              "38    39       Catar        0.6   12.54                   21539   \n",
              "39    40  Luxemburgo        0.5    3.90                    7428   \n",
              "40    41     Etiopía        0.5    2.00                    3857   \n",
              "41    42     Bolivia        0.3    0.21                     658   \n",
              "42    43    Moldavia        0.0    0.31                   10687   \n",
              "\n",
              "    Percentague PIB  \n",
              "38            0.080  \n",
              "39            0.052  \n",
              "40            0.021  \n",
              "41            0.006  \n",
              "42            0.026  "
            ],
            "text/html": [
              "\n",
              "  <div id=\"df-20711216-16b6-4a27-9de6-97d9cb60b03f\">\n",
              "    <div class=\"colab-df-container\">\n",
              "      <div>\n",
              "<style scoped>\n",
              "    .dataframe tbody tr th:only-of-type {\n",
              "        vertical-align: middle;\n",
              "    }\n",
              "\n",
              "    .dataframe tbody tr th {\n",
              "        vertical-align: top;\n",
              "    }\n",
              "\n",
              "    .dataframe thead th {\n",
              "        text-align: right;\n",
              "    }\n",
              "</style>\n",
              "<table border=\"1\" class=\"dataframe\">\n",
              "  <thead>\n",
              "    <tr style=\"text-align: right;\">\n",
              "      <th></th>\n",
              "      <th>No.</th>\n",
              "      <th>Country</th>\n",
              "      <th>Tourist M</th>\n",
              "      <th>Income</th>\n",
              "      <th>Income per tourist EUR</th>\n",
              "      <th>Percentague PIB</th>\n",
              "    </tr>\n",
              "  </thead>\n",
              "  <tbody>\n",
              "    <tr>\n",
              "      <th>38</th>\n",
              "      <td>39</td>\n",
              "      <td>Catar</td>\n",
              "      <td>0.6</td>\n",
              "      <td>12.54</td>\n",
              "      <td>21539</td>\n",
              "      <td>0.080</td>\n",
              "    </tr>\n",
              "    <tr>\n",
              "      <th>39</th>\n",
              "      <td>40</td>\n",
              "      <td>Luxemburgo</td>\n",
              "      <td>0.5</td>\n",
              "      <td>3.90</td>\n",
              "      <td>7428</td>\n",
              "      <td>0.052</td>\n",
              "    </tr>\n",
              "    <tr>\n",
              "      <th>40</th>\n",
              "      <td>41</td>\n",
              "      <td>Etiopía</td>\n",
              "      <td>0.5</td>\n",
              "      <td>2.00</td>\n",
              "      <td>3857</td>\n",
              "      <td>0.021</td>\n",
              "    </tr>\n",
              "    <tr>\n",
              "      <th>41</th>\n",
              "      <td>42</td>\n",
              "      <td>Bolivia</td>\n",
              "      <td>0.3</td>\n",
              "      <td>0.21</td>\n",
              "      <td>658</td>\n",
              "      <td>0.006</td>\n",
              "    </tr>\n",
              "    <tr>\n",
              "      <th>42</th>\n",
              "      <td>43</td>\n",
              "      <td>Moldavia</td>\n",
              "      <td>0.0</td>\n",
              "      <td>0.31</td>\n",
              "      <td>10687</td>\n",
              "      <td>0.026</td>\n",
              "    </tr>\n",
              "  </tbody>\n",
              "</table>\n",
              "</div>\n",
              "      <button class=\"colab-df-convert\" onclick=\"convertToInteractive('df-20711216-16b6-4a27-9de6-97d9cb60b03f')\"\n",
              "              title=\"Convert this dataframe to an interactive table.\"\n",
              "              style=\"display:none;\">\n",
              "        \n",
              "  <svg xmlns=\"http://www.w3.org/2000/svg\" height=\"24px\"viewBox=\"0 0 24 24\"\n",
              "       width=\"24px\">\n",
              "    <path d=\"M0 0h24v24H0V0z\" fill=\"none\"/>\n",
              "    <path d=\"M18.56 5.44l.94 2.06.94-2.06 2.06-.94-2.06-.94-.94-2.06-.94 2.06-2.06.94zm-11 1L8.5 8.5l.94-2.06 2.06-.94-2.06-.94L8.5 2.5l-.94 2.06-2.06.94zm10 10l.94 2.06.94-2.06 2.06-.94-2.06-.94-.94-2.06-.94 2.06-2.06.94z\"/><path d=\"M17.41 7.96l-1.37-1.37c-.4-.4-.92-.59-1.43-.59-.52 0-1.04.2-1.43.59L10.3 9.45l-7.72 7.72c-.78.78-.78 2.05 0 2.83L4 21.41c.39.39.9.59 1.41.59.51 0 1.02-.2 1.41-.59l7.78-7.78 2.81-2.81c.8-.78.8-2.07 0-2.86zM5.41 20L4 18.59l7.72-7.72 1.47 1.35L5.41 20z\"/>\n",
              "  </svg>\n",
              "      </button>\n",
              "      \n",
              "  <style>\n",
              "    .colab-df-container {\n",
              "      display:flex;\n",
              "      flex-wrap:wrap;\n",
              "      gap: 12px;\n",
              "    }\n",
              "\n",
              "    .colab-df-convert {\n",
              "      background-color: #E8F0FE;\n",
              "      border: none;\n",
              "      border-radius: 50%;\n",
              "      cursor: pointer;\n",
              "      display: none;\n",
              "      fill: #1967D2;\n",
              "      height: 32px;\n",
              "      padding: 0 0 0 0;\n",
              "      width: 32px;\n",
              "    }\n",
              "\n",
              "    .colab-df-convert:hover {\n",
              "      background-color: #E2EBFA;\n",
              "      box-shadow: 0px 1px 2px rgba(60, 64, 67, 0.3), 0px 1px 3px 1px rgba(60, 64, 67, 0.15);\n",
              "      fill: #174EA6;\n",
              "    }\n",
              "\n",
              "    [theme=dark] .colab-df-convert {\n",
              "      background-color: #3B4455;\n",
              "      fill: #D2E3FC;\n",
              "    }\n",
              "\n",
              "    [theme=dark] .colab-df-convert:hover {\n",
              "      background-color: #434B5C;\n",
              "      box-shadow: 0px 1px 3px 1px rgba(0, 0, 0, 0.15);\n",
              "      filter: drop-shadow(0px 1px 2px rgba(0, 0, 0, 0.3));\n",
              "      fill: #FFFFFF;\n",
              "    }\n",
              "  </style>\n",
              "\n",
              "      <script>\n",
              "        const buttonEl =\n",
              "          document.querySelector('#df-20711216-16b6-4a27-9de6-97d9cb60b03f button.colab-df-convert');\n",
              "        buttonEl.style.display =\n",
              "          google.colab.kernel.accessAllowed ? 'block' : 'none';\n",
              "\n",
              "        async function convertToInteractive(key) {\n",
              "          const element = document.querySelector('#df-20711216-16b6-4a27-9de6-97d9cb60b03f');\n",
              "          const dataTable =\n",
              "            await google.colab.kernel.invokeFunction('convertToInteractive',\n",
              "                                                     [key], {});\n",
              "          if (!dataTable) return;\n",
              "\n",
              "          const docLinkHtml = 'Like what you see? Visit the ' +\n",
              "            '<a target=\"_blank\" href=https://colab.research.google.com/notebooks/data_table.ipynb>data table notebook</a>'\n",
              "            + ' to learn more about interactive tables.';\n",
              "          element.innerHTML = '';\n",
              "          dataTable['output_type'] = 'display_data';\n",
              "          await google.colab.output.renderOutput(dataTable, element);\n",
              "          const docLink = document.createElement('div');\n",
              "          docLink.innerHTML = docLinkHtml;\n",
              "          element.appendChild(docLink);\n",
              "        }\n",
              "      </script>\n",
              "    </div>\n",
              "  </div>\n",
              "  "
            ]
          },
          "metadata": {},
          "execution_count": 24
        }
      ]
    },
    {
      "cell_type": "markdown",
      "source": [
        "# **3. Cleaning**"
      ],
      "metadata": {
        "id": "EDGZGwrmBhMD"
      }
    },
    {
      "cell_type": "markdown",
      "source": [
        "## Column Names"
      ],
      "metadata": {
        "id": "HWpdALQvB4vq"
      }
    },
    {
      "cell_type": "code",
      "source": [
        "## Change \n",
        "d.rename(columns = {\"País\":\"Country\"}, inplace = True)\n",
        "\n",
        "## Change Turistas\n",
        "d.rename(columns = {\"Turistas M\":\"Tourist M\"}, inplace = True)\n",
        "\n",
        "## Change Ingresos Miles de Millones\n",
        "d.rename(columns = {\"Ingresos MM\":\"Income\"}, inplace = True)\n",
        "\n",
        "## Change Ingresos\n",
        "d.rename(columns = {\"Ingresos por turista EUR\":\"Income per tourist EUR\"}, inplace = True)\n",
        "\n",
        "## Change Porcentaje\n",
        "d.rename(columns = {\"Porcentaje PIB\":\"Percentague PIB\"}, inplace = True)\n"
      ],
      "metadata": {
        "id": "J_8ptDa_B0M_"
      },
      "execution_count": 23,
      "outputs": []
    },
    {
      "cell_type": "markdown",
      "source": [
        "## Delete Columns\n",
        "\n"
      ],
      "metadata": {
        "id": "I4PCqbvuD64c"
      }
    },
    {
      "cell_type": "code",
      "source": [
        "#No tengo columnas por eliminar.\n",
        "#Se usa para eliminar columnas, la columna que se quiere eliminar se pone en el nombre en las comillas.\n",
        "\n",
        "d = d.drop(columns = [''] )\n",
        "d.head()"
      ],
      "metadata": {
        "id": "d-us0oEdE-JU"
      },
      "execution_count": null,
      "outputs": []
    },
    {
      "cell_type": "markdown",
      "source": [
        "# A few more things "
      ],
      "metadata": {
        "id": "kBluy6nWFPfr"
      }
    },
    {
      "cell_type": "code",
      "source": [
        "# (Optional) Duplicate the dataframe \n",
        "dd =  d"
      ],
      "metadata": {
        "id": "bNoKBGGLFWD0"
      },
      "execution_count": 31,
      "outputs": []
    },
    {
      "cell_type": "code",
      "source": [
        "# Solo para los que tienen variable Año, deben duplicar\n",
        "dd[\"year_str\"] = dd[\"year\"].astype(str)\n",
        "\n",
        "#Check\n",
        "d.head()"
      ],
      "metadata": {
        "id": "vwYFJgvIFpcV"
      },
      "execution_count": null,
      "outputs": []
    }
  ]
}