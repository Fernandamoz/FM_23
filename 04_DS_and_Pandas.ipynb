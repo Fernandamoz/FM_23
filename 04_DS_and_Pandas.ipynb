{
  "nbformat": 4,
  "nbformat_minor": 0,
  "metadata": {
    "colab": {
      "provenance": [],
      "include_colab_link": true
    },
    "kernelspec": {
      "name": "python3",
      "display_name": "Python 3"
    },
    "language_info": {
      "name": "python"
    }
  },
  "cells": [
    {
      "cell_type": "markdown",
      "metadata": {
        "id": "view-in-github",
        "colab_type": "text"
      },
      "source": [
        "<a href=\"https://colab.research.google.com/github/mariafernandamr/MariaFernanda-DataVisualization2023/blob/main/04_DS_and_Pandas.ipynb\" target=\"_parent\"><img src=\"https://colab.research.google.com/assets/colab-badge.svg\" alt=\"Open In Colab\"/></a>"
      ]
    },
    {
      "cell_type": "markdown",
      "source": [
        "# **1. DS and Pandas**\n",
        "\n",
        "It is the Excel of Python."
      ],
      "metadata": {
        "id": "94O3dpXZuBMF"
      }
    },
    {
      "cell_type": "code",
      "execution_count": 8,
      "metadata": {
        "id": "FEVcTka1tef5"
      },
      "outputs": [],
      "source": [
        "# Libraries\n",
        "\n",
        "import numpy as np\n",
        "import pandas as pd"
      ]
    },
    {
      "cell_type": "markdown",
      "source": [
        "# **2. Series**\n",
        "\n",
        "A *Series* is a one dimensional object."
      ],
      "metadata": {
        "id": "mXXiG1gLu4gx"
      }
    },
    {
      "cell_type": "markdown",
      "source": [
        "## 2.1. Series Creation"
      ],
      "metadata": {
        "id": "ryGmdLwEvO3u"
      }
    },
    {
      "cell_type": "code",
      "source": [
        "# Empty Series\n",
        "\n",
        "s_empty = pd.Series()\n",
        "print(s_empty)"
      ],
      "metadata": {
        "colab": {
          "base_uri": "https://localhost:8080/"
        },
        "id": "kO6ZcnohvUX0",
        "outputId": "dd255c90-6964-45e2-a725-a7299f3ecfff"
      },
      "execution_count": 10,
      "outputs": [
        {
          "output_type": "stream",
          "name": "stdout",
          "text": [
            "Series([], dtype: float64)\n"
          ]
        },
        {
          "output_type": "stream",
          "name": "stderr",
          "text": [
            "<ipython-input-10-99c40c9e7307>:3: FutureWarning: The default dtype for empty Series will be 'object' instead of 'float64' in a future version. Specify a dtype explicitly to silence this warning.\n",
            "  s_empty = pd.Series()\n"
          ]
        }
      ]
    },
    {
      "cell_type": "code",
      "source": [
        "# Create a Series by typing values\n",
        "\n",
        "s_int = pd.Series([1,2,3,4,5,6,7,8,9])\n",
        "print(s_int)\n",
        "\n",
        "s_str = pd.Series(['Nicolas', 'Luisa', 'José'])\n",
        "print(s_str)"
      ],
      "metadata": {
        "colab": {
          "base_uri": "https://localhost:8080/"
        },
        "id": "Ni6TlDVBv5i4",
        "outputId": "065e2fd0-281e-4423-f3f1-711ac87e5767"
      },
      "execution_count": 11,
      "outputs": [
        {
          "output_type": "stream",
          "name": "stdout",
          "text": [
            "0    1\n",
            "1    2\n",
            "2    3\n",
            "3    4\n",
            "4    5\n",
            "5    6\n",
            "6    7\n",
            "7    8\n",
            "8    9\n",
            "dtype: int64\n",
            "0    Nicolas\n",
            "1      Luisa\n",
            "2       José\n",
            "dtype: object\n"
          ]
        }
      ]
    },
    {
      "cell_type": "code",
      "source": [
        "# Create a Serie with random numbers\n",
        "\n",
        "s_rand = pd.Series(np.random.rand(10))\n",
        "print(s_rand)"
      ],
      "metadata": {
        "colab": {
          "base_uri": "https://localhost:8080/"
        },
        "id": "y_UkCM4Nx--Y",
        "outputId": "5802a972-cc75-445e-8e74-1670b064ee79"
      },
      "execution_count": 12,
      "outputs": [
        {
          "output_type": "stream",
          "name": "stdout",
          "text": [
            "0    0.574219\n",
            "1    0.039266\n",
            "2    0.711933\n",
            "3    0.290253\n",
            "4    0.321143\n",
            "5    0.497546\n",
            "6    0.601812\n",
            "7    0.879195\n",
            "8    0.249108\n",
            "9    0.870549\n",
            "dtype: float64\n"
          ]
        }
      ]
    },
    {
      "cell_type": "markdown",
      "source": [
        "## 2.2. Indexing"
      ],
      "metadata": {
        "id": "Vk65i931ywtm"
      }
    },
    {
      "cell_type": "code",
      "source": [
        "# Check the index of a Series\n",
        "\n",
        "s_rand.index"
      ],
      "metadata": {
        "colab": {
          "base_uri": "https://localhost:8080/"
        },
        "id": "hCLELnqoy3Tb",
        "outputId": "e6a65e2b-5fe0-46ee-d193-f5d869f4200c"
      },
      "execution_count": 13,
      "outputs": [
        {
          "output_type": "execute_result",
          "data": {
            "text/plain": [
              "RangeIndex(start=0, stop=10, step=1)"
            ]
          },
          "metadata": {},
          "execution_count": 13
        }
      ]
    },
    {
      "cell_type": "code",
      "source": [
        "# create your own index\n",
        "\n",
        "new_index = ['A','B','C']\n",
        "s_str3 = s_str.set_axis(new_index)\n",
        "print(s_str3)"
      ],
      "metadata": {
        "colab": {
          "base_uri": "https://localhost:8080/"
        },
        "id": "bsUUDHvjzRN7",
        "outputId": "5bd49c6b-5e3e-4c4a-fdb7-9d8908158adc"
      },
      "execution_count": 14,
      "outputs": [
        {
          "output_type": "stream",
          "name": "stdout",
          "text": [
            "A    Nicolas\n",
            "B      Luisa\n",
            "C       José\n",
            "dtype: object\n"
          ]
        }
      ]
    },
    {
      "cell_type": "markdown",
      "source": [
        "## 2.3. Select and Slice"
      ],
      "metadata": {
        "id": "epxdszGl2hTy"
      }
    },
    {
      "cell_type": "code",
      "source": [
        "# Simple Selection\n",
        "s_str3['B']\n",
        "s_str3[1]"
      ],
      "metadata": {
        "colab": {
          "base_uri": "https://localhost:8080/",
          "height": 35
        },
        "id": "qo5sln-o22tr",
        "outputId": "f311fd46-9485-47af-8635-b81c0ff4e751"
      },
      "execution_count": 15,
      "outputs": [
        {
          "output_type": "execute_result",
          "data": {
            "text/plain": [
              "'Luisa'"
            ],
            "application/vnd.google.colaboratory.intrinsic+json": {
              "type": "string"
            }
          },
          "metadata": {},
          "execution_count": 15
        }
      ]
    },
    {
      "cell_type": "code",
      "source": [
        "# Select different elements\n",
        "s_rand[[3,8]]"
      ],
      "metadata": {
        "colab": {
          "base_uri": "https://localhost:8080/"
        },
        "id": "YDi9apo33Z2D",
        "outputId": "a5f547de-951e-406b-a95c-91e32cded386"
      },
      "execution_count": 16,
      "outputs": [
        {
          "output_type": "execute_result",
          "data": {
            "text/plain": [
              "3    0.290253\n",
              "8    0.249108\n",
              "dtype: float64"
            ]
          },
          "metadata": {},
          "execution_count": 16
        }
      ]
    },
    {
      "cell_type": "code",
      "source": [
        "# Another way\n",
        "s_rand[:3]"
      ],
      "metadata": {
        "colab": {
          "base_uri": "https://localhost:8080/"
        },
        "id": "wIUFwLOY33pc",
        "outputId": "9157193c-2c6e-4fa0-e0c7-8df8169fa798"
      },
      "execution_count": 17,
      "outputs": [
        {
          "output_type": "execute_result",
          "data": {
            "text/plain": [
              "0    0.574219\n",
              "1    0.039266\n",
              "2    0.711933\n",
              "dtype: float64"
            ]
          },
          "metadata": {},
          "execution_count": 17
        }
      ]
    },
    {
      "cell_type": "markdown",
      "source": [
        "# **3. Pandas time-series**"
      ],
      "metadata": {
        "id": "k4OEorkUxpy6"
      }
    },
    {
      "cell_type": "code",
      "source": [
        "#  Create a data range\n",
        "pd.date_range(start = '01/01/2023', end = '28/03/2023')"
      ],
      "metadata": {
        "id": "Q56kVrwfzAGZ",
        "outputId": "9fb021ba-a07e-4813-af80-ae37850d9dba",
        "colab": {
          "base_uri": "https://localhost:8080/"
        }
      },
      "execution_count": 18,
      "outputs": [
        {
          "output_type": "stream",
          "name": "stderr",
          "text": [
            "/usr/local/lib/python3.9/dist-packages/IPython/core/interactiveshell.py:3326: UserWarning: Parsing '28/03/2023' in DD/MM/YYYY format. Provide format or specify infer_datetime_format=True for consistent parsing.\n",
            "  exec(code_obj, self.user_global_ns, self.user_ns)\n"
          ]
        },
        {
          "output_type": "execute_result",
          "data": {
            "text/plain": [
              "DatetimeIndex(['2023-01-01', '2023-01-02', '2023-01-03', '2023-01-04',\n",
              "               '2023-01-05', '2023-01-06', '2023-01-07', '2023-01-08',\n",
              "               '2023-01-09', '2023-01-10', '2023-01-11', '2023-01-12',\n",
              "               '2023-01-13', '2023-01-14', '2023-01-15', '2023-01-16',\n",
              "               '2023-01-17', '2023-01-18', '2023-01-19', '2023-01-20',\n",
              "               '2023-01-21', '2023-01-22', '2023-01-23', '2023-01-24',\n",
              "               '2023-01-25', '2023-01-26', '2023-01-27', '2023-01-28',\n",
              "               '2023-01-29', '2023-01-30', '2023-01-31', '2023-02-01',\n",
              "               '2023-02-02', '2023-02-03', '2023-02-04', '2023-02-05',\n",
              "               '2023-02-06', '2023-02-07', '2023-02-08', '2023-02-09',\n",
              "               '2023-02-10', '2023-02-11', '2023-02-12', '2023-02-13',\n",
              "               '2023-02-14', '2023-02-15', '2023-02-16', '2023-02-17',\n",
              "               '2023-02-18', '2023-02-19', '2023-02-20', '2023-02-21',\n",
              "               '2023-02-22', '2023-02-23', '2023-02-24', '2023-02-25',\n",
              "               '2023-02-26', '2023-02-27', '2023-02-28', '2023-03-01',\n",
              "               '2023-03-02', '2023-03-03', '2023-03-04', '2023-03-05',\n",
              "               '2023-03-06', '2023-03-07', '2023-03-08', '2023-03-09',\n",
              "               '2023-03-10', '2023-03-11', '2023-03-12', '2023-03-13',\n",
              "               '2023-03-14', '2023-03-15', '2023-03-16', '2023-03-17',\n",
              "               '2023-03-18', '2023-03-19', '2023-03-20', '2023-03-21',\n",
              "               '2023-03-22', '2023-03-23', '2023-03-24', '2023-03-25',\n",
              "               '2023-03-26', '2023-03-27', '2023-03-28'],\n",
              "              dtype='datetime64[ns]', freq='D')"
            ]
          },
          "metadata": {},
          "execution_count": 18
        }
      ]
    },
    {
      "cell_type": "code",
      "source": [
        "#Another way\n",
        "pd.date_range(start = '01/01/2023', periods = 32)"
      ],
      "metadata": {
        "colab": {
          "base_uri": "https://localhost:8080/"
        },
        "id": "DVBGhEPGzgiR",
        "outputId": "cbad0468-80c1-4873-aa89-23f522f6f4cd"
      },
      "execution_count": 19,
      "outputs": [
        {
          "output_type": "execute_result",
          "data": {
            "text/plain": [
              "DatetimeIndex(['2023-01-01', '2023-01-02', '2023-01-03', '2023-01-04',\n",
              "               '2023-01-05', '2023-01-06', '2023-01-07', '2023-01-08',\n",
              "               '2023-01-09', '2023-01-10', '2023-01-11', '2023-01-12',\n",
              "               '2023-01-13', '2023-01-14', '2023-01-15', '2023-01-16',\n",
              "               '2023-01-17', '2023-01-18', '2023-01-19', '2023-01-20',\n",
              "               '2023-01-21', '2023-01-22', '2023-01-23', '2023-01-24',\n",
              "               '2023-01-25', '2023-01-26', '2023-01-27', '2023-01-28',\n",
              "               '2023-01-29', '2023-01-30', '2023-01-31', '2023-02-01'],\n",
              "              dtype='datetime64[ns]', freq='D')"
            ]
          },
          "metadata": {},
          "execution_count": 19
        }
      ]
    },
    {
      "cell_type": "code",
      "source": [
        "# Another way \n",
        "pd.date_range(start = '01/01/2023', periods = 32, freq = 'Q')"
      ],
      "metadata": {
        "colab": {
          "base_uri": "https://localhost:8080/"
        },
        "id": "XQqOWlx8z92s",
        "outputId": "15070dfa-4ee9-42fb-ca8b-455640834029"
      },
      "execution_count": 24,
      "outputs": [
        {
          "output_type": "execute_result",
          "data": {
            "text/plain": [
              "DatetimeIndex(['2023-03-31', '2023-06-30', '2023-09-30', '2023-12-31',\n",
              "               '2024-03-31', '2024-06-30', '2024-09-30', '2024-12-31',\n",
              "               '2025-03-31', '2025-06-30', '2025-09-30', '2025-12-31',\n",
              "               '2026-03-31', '2026-06-30', '2026-09-30', '2026-12-31',\n",
              "               '2027-03-31', '2027-06-30', '2027-09-30', '2027-12-31',\n",
              "               '2028-03-31', '2028-06-30', '2028-09-30', '2028-12-31',\n",
              "               '2029-03-31', '2029-06-30', '2029-09-30', '2029-12-31',\n",
              "               '2030-03-31', '2030-06-30', '2030-09-30', '2030-12-31'],\n",
              "              dtype='datetime64[ns]', freq='Q-DEC')"
            ]
          },
          "metadata": {},
          "execution_count": 24
        }
      ]
    },
    {
      "cell_type": "markdown",
      "source": [
        "**Ejercicio de arriba =** Q = Trimestral, M = Mensual, D = Dias \n"
      ],
      "metadata": {
        "id": "6gy2fOpF05Io"
      }
    },
    {
      "cell_type": "markdown",
      "source": [
        "## 3.2. Asign a time-serie index"
      ],
      "metadata": {
        "id": "rcDwf3Qt1L9Y"
      }
    },
    {
      "cell_type": "code",
      "source": [
        "# Create dates\n",
        "mydates = pd.date_range(start = '01/03/2023', periods = 15)\n",
        "\n",
        "# create an object\n",
        "sales = pd.Series(np.random.randint(low = 200, high = 250, size = 15 ),\n",
        "                  index = mydates)\n",
        "\n",
        "print(sales)"
      ],
      "metadata": {
        "colab": {
          "base_uri": "https://localhost:8080/"
        },
        "id": "xBM_3aU91RaL",
        "outputId": "ed263e28-e95d-454d-9b42-0391ebedcb2f"
      },
      "execution_count": 27,
      "outputs": [
        {
          "output_type": "stream",
          "name": "stdout",
          "text": [
            "2023-01-03    213\n",
            "2023-01-04    216\n",
            "2023-01-05    214\n",
            "2023-01-06    222\n",
            "2023-01-07    219\n",
            "2023-01-08    226\n",
            "2023-01-09    242\n",
            "2023-01-10    248\n",
            "2023-01-11    246\n",
            "2023-01-12    229\n",
            "2023-01-13    246\n",
            "2023-01-14    201\n",
            "2023-01-15    203\n",
            "2023-01-16    239\n",
            "2023-01-17    249\n",
            "Freq: D, dtype: int64\n"
          ]
        }
      ]
    },
    {
      "cell_type": "markdown",
      "source": [
        "## **4. Practical case - Simulation**"
      ],
      "metadata": {
        "id": "XwalE3NM2sjA"
      }
    },
    {
      "cell_type": "markdown",
      "source": [
        "## 4.1. Create a simulation \n",
        "\n",
        "A simulation of the price a financial asset.\n",
        "\n",
        "* First = Create the dates "
      ],
      "metadata": {
        "id": "hHnmbHjd29To"
      }
    },
    {
      "cell_type": "code",
      "source": [
        "## Create a daily series of the dates from 2021 until today.\n",
        "\n",
        "# Saves 'today'\n",
        "td = pd.to_datetime(\"today\").strftime('%m/%d/%Y')\n",
        "\n",
        "# Create the date range \n",
        "dr = pd.date_range(start = '01/01/2021', end = td)\n",
        "nd = len(dr)"
      ],
      "metadata": {
        "id": "B38lvzFv3W83"
      },
      "execution_count": 43,
      "outputs": []
    },
    {
      "cell_type": "markdown",
      "source": [
        "* Second = Simulate the price "
      ],
      "metadata": {
        "id": "4UznUY4Q51aS"
      }
    },
    {
      "cell_type": "code",
      "source": [
        "# Price with returns = tr(mu.sigma^2)\n",
        "\n",
        "## Moments \n",
        "mu = 0.001 ; sigma = 0.01\n",
        "\n",
        "##Returns\n",
        "r = np.random.normal(mu, sigma, size = nd)\n",
        "\n",
        "\n",
        "## Price\n",
        "s = np.empty(nd)\n",
        "s [0] = 100\n",
        "\n",
        "for 1 in range(i, nd):\n",
        "  s[i] = s[i-1]^np.exp(r[i])"
      ],
      "metadata": {
        "colab": {
          "base_uri": "https://localhost:8080/",
          "height": 130
        },
        "id": "tjbOgFLh5_NL",
        "outputId": "7e719b83-65d1-4fc1-b11a-dc7470a6bc35"
      },
      "execution_count": 45,
      "outputs": [
        {
          "output_type": "error",
          "ename": "SyntaxError",
          "evalue": "ignored",
          "traceback": [
            "\u001b[0;36m  File \u001b[0;32m\"<ipython-input-45-9a114caeba1b>\"\u001b[0;36m, line \u001b[0;32m14\u001b[0m\n\u001b[0;31m    for 1 in range(i, nd):\u001b[0m\n\u001b[0m        ^\u001b[0m\n\u001b[0;31mSyntaxError\u001b[0m\u001b[0;31m:\u001b[0m cannot assign to literal\n"
          ]
        }
      ]
    },
    {
      "cell_type": "markdown",
      "source": [
        "* Third = Put together the dates and prices "
      ],
      "metadata": {
        "id": "cvpBZzzm7YCE"
      }
    },
    {
      "cell_type": "code",
      "source": [
        "# Create the time series \n",
        "s = sd.series(s, index = dr)"
      ],
      "metadata": {
        "colab": {
          "base_uri": "https://localhost:8080/",
          "height": 183
        },
        "id": "bl7Ra98_7gmB",
        "outputId": "183ebaef-a89e-43a1-94b1-0ff3059bc6da"
      },
      "execution_count": 46,
      "outputs": [
        {
          "output_type": "error",
          "ename": "NameError",
          "evalue": "ignored",
          "traceback": [
            "\u001b[0;31m---------------------------------------------------------------------------\u001b[0m",
            "\u001b[0;31mNameError\u001b[0m                                 Traceback (most recent call last)",
            "\u001b[0;32m<ipython-input-46-ed40f5d4fd9f>\u001b[0m in \u001b[0;36m<module>\u001b[0;34m\u001b[0m\n\u001b[1;32m      1\u001b[0m \u001b[0;31m# Create the time series\u001b[0m\u001b[0;34m\u001b[0m\u001b[0;34m\u001b[0m\u001b[0m\n\u001b[0;32m----> 2\u001b[0;31m \u001b[0ms\u001b[0m \u001b[0;34m=\u001b[0m \u001b[0msd\u001b[0m\u001b[0;34m.\u001b[0m\u001b[0mseries\u001b[0m\u001b[0;34m(\u001b[0m\u001b[0ms\u001b[0m\u001b[0;34m,\u001b[0m \u001b[0mindex\u001b[0m \u001b[0;34m=\u001b[0m \u001b[0mdr\u001b[0m\u001b[0;34m)\u001b[0m\u001b[0;34m\u001b[0m\u001b[0;34m\u001b[0m\u001b[0m\n\u001b[0m",
            "\u001b[0;31mNameError\u001b[0m: name 'sd' is not defined"
          ]
        }
      ]
    },
    {
      "cell_type": "code",
      "source": [
        "import matplotlib.pyplot as plt\n"
      ],
      "metadata": {
        "id": "Zkei1lBi8Ep0"
      },
      "execution_count": 47,
      "outputs": []
    },
    {
      "cell_type": "code",
      "source": [
        "pit.plot(s)\n",
        "pit.show()"
      ],
      "metadata": {
        "colab": {
          "base_uri": "https://localhost:8080/",
          "height": 183
        },
        "id": "T469bBu38MCU",
        "outputId": "f3d9f7e9-b866-4406-89e8-3f466caca757"
      },
      "execution_count": 48,
      "outputs": [
        {
          "output_type": "error",
          "ename": "NameError",
          "evalue": "ignored",
          "traceback": [
            "\u001b[0;31m---------------------------------------------------------------------------\u001b[0m",
            "\u001b[0;31mNameError\u001b[0m                                 Traceback (most recent call last)",
            "\u001b[0;32m<ipython-input-48-072840ac892e>\u001b[0m in \u001b[0;36m<module>\u001b[0;34m\u001b[0m\n\u001b[0;32m----> 1\u001b[0;31m \u001b[0mpit\u001b[0m\u001b[0;34m.\u001b[0m\u001b[0mplot\u001b[0m\u001b[0;34m(\u001b[0m\u001b[0ms\u001b[0m\u001b[0;34m)\u001b[0m\u001b[0;34m\u001b[0m\u001b[0;34m\u001b[0m\u001b[0m\n\u001b[0m\u001b[1;32m      2\u001b[0m \u001b[0mpit\u001b[0m\u001b[0;34m.\u001b[0m\u001b[0mshow\u001b[0m\u001b[0;34m(\u001b[0m\u001b[0;34m)\u001b[0m\u001b[0;34m\u001b[0m\u001b[0;34m\u001b[0m\u001b[0m\n",
            "\u001b[0;31mNameError\u001b[0m: name 'pit' is not defined"
          ]
        }
      ]
    }
  ]
}