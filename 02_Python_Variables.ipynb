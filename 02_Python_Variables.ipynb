{
  "nbformat": 4,
  "nbformat_minor": 0,
  "metadata": {
    "colab": {
      "provenance": [],
      "authorship_tag": "ABX9TyP4A7u1JrfpGB+k1CvEumCb",
      "include_colab_link": true
    },
    "kernelspec": {
      "name": "python3",
      "display_name": "Python 3"
    },
    "language_info": {
      "name": "python"
    }
  },
  "cells": [
    {
      "cell_type": "markdown",
      "metadata": {
        "id": "view-in-github",
        "colab_type": "text"
      },
      "source": [
        "<a href=\"https://colab.research.google.com/github/mariafernandamr/MariaFernanda-DataVisualization2023/blob/main/02_Python_Variables.ipynb\" target=\"_parent\"><img src=\"https://colab.research.google.com/assets/colab-badge.svg\" alt=\"Open In Colab\"/></a>"
      ]
    },
    {
      "cell_type": "markdown",
      "source": [
        "# **1. What is a variable?**\n",
        "A variable is a *container*, in the sense that it *stores* values."
      ],
      "metadata": {
        "id": "5H00QmBXwvXH"
      }
    },
    {
      "cell_type": "code",
      "source": [
        "# Example\n",
        "\n",
        "a = 2.57\n",
        "print(a)"
      ],
      "metadata": {
        "colab": {
          "base_uri": "https://localhost:8080/"
        },
        "id": "v26ebSxBxMS8",
        "outputId": "3c3a1989-79f2-4d7e-858b-d6ff0a2ae4ba"
      },
      "execution_count": 5,
      "outputs": [
        {
          "output_type": "stream",
          "name": "stdout",
          "text": [
            "2.57\n"
          ]
        }
      ]
    },
    {
      "cell_type": "code",
      "source": [],
      "metadata": {
        "id": "Wr-Ly_eXx4kO"
      },
      "execution_count": null,
      "outputs": []
    },
    {
      "cell_type": "code",
      "source": [
        "# Example\n",
        "num = 8.53214794\n",
        "pi = 0\n",
        "pf = 7\n",
        "\n",
        "print('\\nThe aproximation of',num, 'with:')\n",
        "print('Decimals','Result')\n",
        "for i in range (pi,pf+1): print(i,'\\t', round(num,i))"
      ],
      "metadata": {
        "colab": {
          "base_uri": "https://localhost:8080/"
        },
        "outputId": "a11442da-0314-4d46-ed2d-953801c8cc0a",
        "id": "WGe-7nzrr1E2"
      },
      "execution_count": 7,
      "outputs": [
        {
          "output_type": "stream",
          "name": "stdout",
          "text": [
            "\n",
            "The aproximation of 8.53214794 with:\n",
            "Decimals Result\n",
            "0 \t 9.0\n",
            "1 \t 8.5\n",
            "2 \t 8.53\n",
            "3 \t 8.532\n",
            "4 \t 8.5321\n",
            "5 \t 8.53215\n",
            "6 \t 8.532148\n",
            "7 \t 8.5321479\n"
          ]
        }
      ]
    }
  ]
}